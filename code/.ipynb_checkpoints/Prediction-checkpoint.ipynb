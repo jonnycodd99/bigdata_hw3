{
 "cells": [
  {
   "cell_type": "markdown",
   "id": "5751793d",
   "metadata": {},
   "source": [
    "# Prediction\n",
    "\n",
    "Insert path to data below (sample path inserted):"
   ]
  },
  {
   "cell_type": "code",
   "execution_count": null,
   "id": "dfaf5ded",
   "metadata": {},
   "outputs": [],
   "source": [
    "path = \"/Users/rossfleming/Documents/GitHub/bigdata_hw3/exploitation_zone/idealista.parquet/part-00000-5b53f1a9-dc1d-44b9-96a5-9d8ba51dd7a3-c000.snappy.parquet\""
   ]
  },
  {
   "cell_type": "code",
   "execution_count": 9,
   "id": "1eaa3bb4",
   "metadata": {},
   "outputs": [],
   "source": [
    "import pandas as pd\n",
    "import glob\n",
    "import re\n",
    "\n",
    "from pyspark.sql import SparkSession\n",
    "from pyspark import  SparkConf\n",
    "from pyspark.sql.types import *\n",
    "from pyspark.sql import functions as F\n",
    "from pyspark.ml.feature import VectorAssembler\n",
    "from pyspark.ml.classification import LogisticRegression\n",
    "import mlflow\n",
    "import mlflow.spark\n",
    "from pyspark.ml.evaluation import MulticlassClassificationEvaluator\n",
    "from pyspark.ml.classification import DecisionTreeClassifier\n",
    "\n"
   ]
  },
  {
   "cell_type": "code",
   "execution_count": 17,
   "id": "1a9c4c09",
   "metadata": {},
   "outputs": [],
   "source": [
    "import os\n",
    "os.environ['JAVA_HOME'] = '/opt/homebrew/opt/openjdk'\n",
    "\n",
    "\n",
    "appName = \"app\"\n",
    "master = \"local[*]\" # Spark will use all cores (*) available\n",
    "if not 'spark' in globals(): \n",
    "  conf = SparkConf().setAppName(appName).setMaster(master)\n",
    "  spark = SparkSession.builder \\\n",
    "        .config(conf=conf) \\\n",
    "        .getOrCreate()"
   ]
  },
  {
   "cell_type": "code",
   "execution_count": 18,
   "id": "d855b7d6",
   "metadata": {},
   "outputs": [
    {
     "data": {
      "text/html": [
       "\n",
       "            <div>\n",
       "                <p><b>SparkSession - in-memory</b></p>\n",
       "                \n",
       "        <div>\n",
       "            <p><b>SparkContext</b></p>\n",
       "\n",
       "            <p><a href=\"http://ciutadella-132-35.eduroamcc.upf.edu:4040\">Spark UI</a></p>\n",
       "\n",
       "            <dl>\n",
       "              <dt>Version</dt>\n",
       "                <dd><code>v3.5.1</code></dd>\n",
       "              <dt>Master</dt>\n",
       "                <dd><code>local[*]</code></dd>\n",
       "              <dt>AppName</dt>\n",
       "                <dd><code>app</code></dd>\n",
       "            </dl>\n",
       "        </div>\n",
       "        \n",
       "            </div>\n",
       "        "
      ],
      "text/plain": [
       "<pyspark.sql.session.SparkSession at 0x11faebac0>"
      ]
     },
     "execution_count": 18,
     "metadata": {},
     "output_type": "execute_result"
    }
   ],
   "source": [
    "spark"
   ]
  },
  {
   "cell_type": "code",
   "execution_count": 20,
   "id": "6f55ccb6",
   "metadata": {},
   "outputs": [],
   "source": [
    "data = spark.read.parquet(path)\n"
   ]
  },
  {
   "cell_type": "code",
   "execution_count": 37,
   "id": "2c62de94",
   "metadata": {},
   "outputs": [
    {
     "name": "stdout",
     "output_type": "stream",
     "text": [
      "root\n",
      " |-- bathrooms: integer (nullable = true)\n",
      " |-- distance: double (nullable = true)\n",
      " |-- exterior: boolean (nullable = true)\n",
      " |-- floor: integer (nullable = true)\n",
      " |-- has360: boolean (nullable = true)\n",
      " |-- has3dtour: boolean (nullable = true)\n",
      " |-- haslift: boolean (nullable = true)\n",
      " |-- hasplan: boolean (nullable = true)\n",
      " |-- hasstaging: boolean (nullable = true)\n",
      " |-- hasvideo: boolean (nullable = true)\n",
      " |-- latitude: double (nullable = true)\n",
      " |-- longitude: double (nullable = true)\n",
      " |-- newdevelopment: boolean (nullable = true)\n",
      " |-- numphotos: long (nullable = true)\n",
      " |-- rooms: integer (nullable = true)\n",
      " |-- showaddress: boolean (nullable = true)\n",
      " |-- size: double (nullable = true)\n",
      " |-- topnewdevelopment: boolean (nullable = true)\n",
      " |-- hasparkingspace: boolean (nullable = true)\n",
      " |-- isparkingspaceincludedinprice: boolean (nullable = true)\n",
      " |-- year: integer (nullable = true)\n",
      " |-- 2013_per_meter: double (nullable = true)\n",
      " |-- 2013_used_per_meter: double (nullable = true)\n",
      " |-- 2013_amount: double (nullable = true)\n",
      " |-- 2013_used_amount: double (nullable = true)\n",
      " |-- 2014_per_meter: double (nullable = true)\n",
      " |-- 2014_used_per_meter: double (nullable = true)\n",
      " |-- 2014_amount: double (nullable = true)\n",
      " |-- 2014_used_amount: double (nullable = true)\n",
      " |-- 2015_per_meter: double (nullable = true)\n",
      " |-- 2015_used_per_meter: double (nullable = true)\n",
      " |-- 2015_amount: double (nullable = true)\n",
      " |-- 2015_used_amount: double (nullable = true)\n",
      " |-- 2016_per_meter: double (nullable = true)\n",
      " |-- 2016_used_per_meter: double (nullable = true)\n",
      " |-- 2016_amount: double (nullable = true)\n",
      " |-- 2016_used_amount: double (nullable = true)\n",
      " |-- 2017_per_meter: double (nullable = true)\n",
      " |-- 2017_used_per_meter: double (nullable = true)\n",
      " |-- 2017_amount: double (nullable = true)\n",
      " |-- 2017_used_amount: double (nullable = true)\n",
      " |-- 2007_index_rfd: double (nullable = true)\n",
      " |-- 2007_poblacio: double (nullable = true)\n",
      " |-- 2008_index_rfd: double (nullable = true)\n",
      " |-- 2008_poblacio: double (nullable = true)\n",
      " |-- 2009_index_rfd: double (nullable = true)\n",
      " |-- 2009_poblacio: double (nullable = true)\n",
      " |-- 2010_index_rfd: double (nullable = true)\n",
      " |-- 2010_poblacio: double (nullable = true)\n",
      " |-- 2011_index_rfd: double (nullable = true)\n",
      " |-- 2011_poblacio: double (nullable = true)\n",
      " |-- 2012_index_rfd: double (nullable = true)\n",
      " |-- 2012_poblacio: double (nullable = true)\n",
      " |-- 2013_index_rfd: double (nullable = true)\n",
      " |-- 2013_poblacio: double (nullable = true)\n",
      " |-- 2014_index_rfd: double (nullable = true)\n",
      " |-- 2014_poblacio: double (nullable = true)\n",
      " |-- 2015_index_rfd: double (nullable = true)\n",
      " |-- 2015_poblacio: double (nullable = true)\n",
      " |-- 2016_index_rfd: double (nullable = true)\n",
      " |-- 2016_poblacio: double (nullable = true)\n",
      " |-- 2017_index_rfd: double (nullable = true)\n",
      " |-- 2017_poblacio: double (nullable = true)\n",
      " |-- district_enc: vector (nullable = true)\n",
      " |-- neighborhood_enc: vector (nullable = true)\n",
      " |-- propertytype_enc: vector (nullable = true)\n",
      " |-- typology_enc: vector (nullable = true)\n",
      " |-- index: long (nullable = true)\n",
      " |-- price_classification: integer (nullable = true)\n",
      "\n"
     ]
    }
   ],
   "source": [
    "data.printSchema()"
   ]
  },
  {
   "cell_type": "code",
   "execution_count": 59,
   "id": "fcf8f66c",
   "metadata": {},
   "outputs": [
    {
     "data": {
      "text/plain": [
       "<ActiveRun: >"
      ]
     },
     "execution_count": 59,
     "metadata": {},
     "output_type": "execute_result"
    }
   ],
   "source": [
    "mlflow.start_run()"
   ]
  },
  {
   "cell_type": "code",
   "execution_count": 75,
   "id": "2b90aab6",
   "metadata": {},
   "outputs": [],
   "source": [
    "train_data, validation_data = data.randomSplit([0.8, 0.2], seed=42)\n"
   ]
  },
  {
   "cell_type": "code",
   "execution_count": 76,
   "id": "9abaf208",
   "metadata": {},
   "outputs": [],
   "source": [
    "\n",
    "feature_cols = [col for col in data.columns if col not in ['price_classification']]\n",
    "assembler = VectorAssembler(inputCols=feature_cols, outputCol=\"features\")\n",
    "train_data = assembler.transform(train_data)\n",
    "validation_data = assembler.transform(validation_data)\n"
   ]
  },
  {
   "cell_type": "code",
   "execution_count": 84,
   "id": "46436bf9",
   "metadata": {},
   "outputs": [
    {
     "data": {
      "text/plain": [
       "'logistic_regression'"
      ]
     },
     "execution_count": 84,
     "metadata": {},
     "output_type": "execute_result"
    }
   ],
   "source": [
    "\n",
    "\n",
    "lr = LogisticRegression(featuresCol='features', labelCol='price_classification')\n",
    "lr_model = lr.fit(train_data)\n",
    "\n",
    "# Log model and parameters\n",
    "mlflow.spark.log_model(lr_model, \"logistic-regression-model\")\n",
    "mlflow.log_param(\"model_type\", \"logistic_regression\")\n"
   ]
  },
  {
   "cell_type": "code",
   "execution_count": 85,
   "id": "4466baba",
   "metadata": {},
   "outputs": [
    {
     "name": "stdout",
     "output_type": "stream",
     "text": [
      "0.9282899921197794\n"
     ]
    }
   ],
   "source": [
    "\n",
    "predictions_lr = lr_model.transform(validation_data)\n",
    "evaluator_lr = MulticlassClassificationEvaluator(labelCol=\"price_classification\", metricName=\"accuracy\")\n",
    "accuracy_lr = evaluator.evaluate(predictions_lr)\n",
    "mlflow.log_metric(\"accuracy\", accuracy_lr)\n",
    "\n",
    "print(accuracy_lr)"
   ]
  },
  {
   "cell_type": "code",
   "execution_count": 86,
   "id": "a3f280d3",
   "metadata": {},
   "outputs": [],
   "source": [
    "\n",
    "# Train the Decision Tree model\n",
    "dt = DecisionTreeClassifier(featuresCol='features', labelCol='price_classification')\n",
    "dt_model = dt.fit(train_data)\n",
    "\n",
    "# Log model and parameters in MLflow\n",
    "mlflow.spark.log_model(dt_model, \"decision-tree-model\")\n",
    "mlflow.log_param(\"maxDepth\", dt_model.getMaxDepth())\n",
    "mlflow.log_param(\"maxBins\", dt_model.getMaxBins())\n",
    "\n",
    "# Predict and evaluate\n",
    "predictions_dt = dt_model.transform(validation_data)"
   ]
  },
  {
   "cell_type": "code",
   "execution_count": 88,
   "id": "4b9da404",
   "metadata": {},
   "outputs": [
    {
     "name": "stdout",
     "output_type": "stream",
     "text": [
      "0.9204097714736013\n"
     ]
    }
   ],
   "source": [
    "evaluator_dt = MulticlassClassificationEvaluator(labelCol=\"price_classification\", metricName=\"accuracy\")\n",
    "accuracy_dt = evaluator.evaluate(predictions_dt)\n",
    "mlflow.log_metric(\"accuracy\", accuracy_dt)\n",
    "\n",
    "print(accuracy_dt)"
   ]
  },
  {
   "cell_type": "code",
   "execution_count": 90,
   "id": "3730f3a2",
   "metadata": {},
   "outputs": [
    {
     "name": "stdout",
     "output_type": "stream",
     "text": [
      "LogisticRegressionModel: uid=LogisticRegression_6e6360ea7862, numClasses=2, numFeatures=123\n"
     ]
    }
   ],
   "source": [
    "if accuracy_dt > accuracy_lr:\n",
    "    best_model = dt_model\n",
    "else: \n",
    "    best_model = lr_model\n",
    "    \n",
    "print(best_model)"
   ]
  }
 ],
 "metadata": {
  "kernelspec": {
   "display_name": "Python 3 (ipykernel)",
   "language": "python",
   "name": "python3"
  },
  "language_info": {
   "codemirror_mode": {
    "name": "ipython",
    "version": 3
   },
   "file_extension": ".py",
   "mimetype": "text/x-python",
   "name": "python",
   "nbconvert_exporter": "python",
   "pygments_lexer": "ipython3",
   "version": "3.10.8"
  }
 },
 "nbformat": 4,
 "nbformat_minor": 5
}
