{
 "cells": [
  {
   "cell_type": "markdown",
   "metadata": {},
   "source": [
    "In this file we load in the raw data to pyspark, deal with outliers, drop irrelevant columns, rename variables to standardized names, and convert variables to the correct format."
   ]
  },
  {
   "cell_type": "code",
   "execution_count": 87,
   "metadata": {},
   "outputs": [],
   "source": [
    "import pandas as pd\n",
    "import glob\n",
    "import re\n",
    "\n",
    "from pyspark.sql import SparkSession\n",
    "from pyspark import  SparkConf\n",
    "from pyspark.sql.types import *\n",
    "from pyspark.sql import functions as F\n",
    "from pyspark.sql.functions import col\n",
    "from pyspark.sql.functions import lit\n",
    "from pyspark.sql.functions import to_date\n",
    "from pyspark.sql.functions import col, explode\n",
    "from pyspark.ml.feature import Imputer\n",
    "from pyspark.sql import SparkSession\n",
    "from pyspark.sql.functions import lit, input_file_name, regexp_extract"
   ]
  },
  {
   "cell_type": "markdown",
   "metadata": {},
   "source": [
    "# Set up pyspark session"
   ]
  },
  {
   "cell_type": "code",
   "execution_count": 88,
   "metadata": {},
   "outputs": [],
   "source": [
    "appName = \"app\"\n",
    "master = \"local[*]\" # Spark will use all cores (*) available\n",
    "if not 'spark' in globals(): # This 'trick' makes sure the SparkContext sc is initialized exactly once\n",
    "  conf = SparkConf().setAppName(appName).setMaster(master)\n",
    "  spark = SparkSession.builder \\\n",
    "        .config(conf=conf) \\\n",
    "        .getOrCreate()"
   ]
  },
  {
   "cell_type": "code",
   "execution_count": 89,
   "metadata": {},
   "outputs": [
    {
     "data": {
      "text/html": [
       "\n",
       "            <div>\n",
       "                <p><b>SparkSession - in-memory</b></p>\n",
       "                \n",
       "        <div>\n",
       "            <p><b>SparkContext</b></p>\n",
       "\n",
       "            <p><a href=\"http://jonnys-macbook-air.home:4040\">Spark UI</a></p>\n",
       "\n",
       "            <dl>\n",
       "              <dt>Version</dt>\n",
       "                <dd><code>v3.5.1</code></dd>\n",
       "              <dt>Master</dt>\n",
       "                <dd><code>local[*]</code></dd>\n",
       "              <dt>AppName</dt>\n",
       "                <dd><code>app</code></dd>\n",
       "            </dl>\n",
       "        </div>\n",
       "        \n",
       "            </div>\n",
       "        "
      ],
      "text/plain": [
       "<pyspark.sql.session.SparkSession at 0x18899e6f0>"
      ]
     },
     "execution_count": 89,
     "metadata": {},
     "output_type": "execute_result"
    }
   ],
   "source": [
    "#Display the information kept in the spark variable\n",
    "spark"
   ]
  },
  {
   "cell_type": "markdown",
   "metadata": {},
   "source": [
    "# Idealista"
   ]
  },
  {
   "cell_type": "code",
   "execution_count": 90,
   "metadata": {},
   "outputs": [],
   "source": [
    "# List of JSON files\n",
    "json_files = glob.glob('../datasets/idealista/*.json')\n",
    "\n",
    "# Read the first JSON file to infer the schema\n",
    "first_file = '../datasets/idealista/2020_08_06_idealista.json'\n",
    "first_df = spark.read.json(first_file)\n",
    "schema = first_df.schema\n",
    "\n",
    "# Load JSON files into Spark DataFrames using inferred schema\n",
    "idealista_dfs = []\n",
    "for file in json_files:\n",
    "    # Extract date from filename \n",
    "    date_match = re.search(r'(\\d{4}_\\d{2}_\\d{2})', file)\n",
    "    date_str = date_match.group(1)  # Extracting the date string from the filename\n",
    "    date_column = to_date(lit(date_str), 'yyyy_MM_dd')  # Converting date string to date format\n",
    "    idealista_df = spark.read.schema(schema).json(file).withColumn('date', date_column)  # Adding the 'date' column\n",
    "    idealista_dfs.append(idealista_df)\n",
    "\n",
    "# Union all the DataFrames\n",
    "idealista = idealista_dfs[0]\n",
    "for df in idealista_dfs[1:]:\n",
    "    idealista = idealista.union(df)"
   ]
  },
  {
   "cell_type": "code",
   "execution_count": 91,
   "metadata": {},
   "outputs": [
    {
     "name": "stdout",
     "output_type": "stream",
     "text": [
      "+--------------------+---------+-------+------------+--------+--------------+--------+-----------------+-----+------+---------+-------+-------+----------+--------+----------+---------+------------+--------------------+--------------+---------+---------+------------+--------+-----------+------------+------------+---------+-----+-----------+----+------+--------------------+--------------------+-----------------+--------------------+----------+\n",
      "|             address|bathrooms|country|detailedType|distance|      district|exterior|externalReference|floor|has360|has3DTour|hasLift|hasPlan|hasStaging|hasVideo|  latitude|longitude|municipality|        neighborhood|newDevelopment|numPhotos|operation|parkingSpace|   price|priceByArea|propertyCode|propertyType| province|rooms|showAddress|size|status|      suggestedTexts|           thumbnail|topNewDevelopment|                 url|      date|\n",
      "+--------------------+---------+-------+------------+--------+--------------+--------+-----------------+-----+------+---------+-------+-------+----------+--------+----------+---------+------------+--------------------+--------------+---------+---------+------------+--------+-----------+------------+------------+---------+-----+-----------+----+------+--------------------+--------------------+-----------------+--------------------+----------+\n",
      "|barrio La Vall d'...|        1|     es|{NULL, flat}|    2349|Horta Guinardó|   false|         W-02I842|    8|  true|    false|   true|   true|     false|   false|41.4357512|2.1517783|   Barcelona|La Vall d'Hebron ...|         false|       22|     sale|        NULL|293000.0|     3663.0|    88841013|        flat|Barcelona|    2|      false|80.0|  good|{La Vall d'Hebron...|https://img3.idea...|            false|https://www.ideal...|2020-08-06|\n",
      "|                Molí|        1|     es|{NULL, flat}|    2295|    Nou Barris|    true|             NULL|    2| false|    false|  false|   true|     false|   false| 41.442935|2.1795681|   Barcelona|      La Prosperitat|         false|       24|     sale|        NULL|166000.0|     2635.0|    93199277|        flat|Barcelona|    3|      false|63.0|  good|{La Prosperitat, ...|https://img3.idea...|            false|https://www.ideal...|2020-08-06|\n",
      "|        Calle Ausona|        1|     es|{NULL, flat}|    2944|   Sant Andreu|   false|             NULL|   st| false|    false|  false|   true|     false|   false|41.4522755|2.1934683|   Barcelona|   La Trinitat Vella|         false|        5|     sale|        NULL| 39000.0|      780.0|    93198927|        flat|Barcelona|    1|      false|50.0| renew|{La Trinitat Vell...|https://img3.idea...|            false|https://www.ideal...|2020-08-06|\n",
      "|     Calle de Travau|        1|     es|{NULL, flat}|    2872|    Nou Barris|    true|          D-40702|    4| false|    false|   true|   true|     false|    true|41.4306786|2.1633246|   Barcelona|Can Peguera - El ...|         false|       27|     sale|        NULL|190000.0|     2317.0|    93155700|        flat|Barcelona|    4|      false|82.0|  good|{Can Peguera - El...|https://img3.idea...|            false|https://www.ideal...|2020-08-06|\n",
      "|Calle del Doctor ...|        1|     es|{NULL, flat}|    3131|    Nou Barris|    true|             3786|    1| false|    false|  false|   true|     false|    true|41.4307302|2.1744089|   Barcelona|               Porta|         false|       37|     sale|        NULL|199000.0|     2803.0|    92704898|        flat|Barcelona|    2|      false|71.0|  good|{Porta, Barcelona...|https://img3.idea...|            false|https://www.ideal...|2020-08-06|\n",
      "+--------------------+---------+-------+------------+--------+--------------+--------+-----------------+-----+------+---------+-------+-------+----------+--------+----------+---------+------------+--------------------+--------------+---------+---------+------------+--------+-----------+------------+------------+---------+-----+-----------+----+------+--------------------+--------------------+-----------------+--------------------+----------+\n",
      "only showing top 5 rows\n",
      "\n"
     ]
    },
    {
     "name": "stderr",
     "output_type": "stream",
     "text": [
      "24/06/06 12:49:50 WARN DAGScheduler: Broadcasting large task binary with size 3.0 MiB\n"
     ]
    }
   ],
   "source": [
    "idealista.show(5)"
   ]
  },
  {
   "cell_type": "code",
   "execution_count": 92,
   "metadata": {},
   "outputs": [],
   "source": [
    "# drop duplicates\n",
    "idealista = idealista.dropDuplicates()"
   ]
  },
  {
   "cell_type": "code",
   "execution_count": 93,
   "metadata": {},
   "outputs": [
    {
     "name": "stderr",
     "output_type": "stream",
     "text": [
      "24/06/06 12:49:55 WARN DAGScheduler: Broadcasting large task binary with size 3.3 MiB\n",
      "24/06/06 12:49:58 WARN DAGScheduler: Broadcasting large task binary with size 1818.8 KiB\n",
      "[Stage 307:>                                                        (0 + 7) / 7]\r"
     ]
    },
    {
     "name": "stdout",
     "output_type": "stream",
     "text": [
      "+-------+----------------+------------------+-------+------------------+--------------------+-----------------+-----------------+-------------------+-------------------+------------+--------------------+------------------+---------+------------------+------------------+-------------------+------------+---------+------------------+-----------------+------+--------------------+--------------------+\n",
      "|summary|         address|         bathrooms|country|          distance|            district|externalReference|            floor|           latitude|          longitude|municipality|        neighborhood|         numPhotos|operation|             price|       priceByArea|       propertyCode|propertyType| province|             rooms|             size|status|           thumbnail|                 url|\n",
      "+-------+----------------+------------------+-------+------------------+--------------------+-----------------+-----------------+-------------------+-------------------+------------+--------------------+------------------+---------+------------------+------------------+-------------------+------------+---------+------------------+-----------------+------+--------------------+--------------------+\n",
      "|  count|           20038|             20038|  20038|             20038|               19577|            18287|            15606|              20038|              20038|       20038|               12267|             20038|    20038|             20038|             20038|              20038|       20038|    20038|             20038|            20038| 20035|               19887|               20038|\n",
      "|   mean|            NULL|1.7712346541571016|   NULL|1721.3684998502845|                NULL|         Infinity|3.058030209617756|  41.37609848079649| 2.1028131811857445|        NULL|                NULL| 23.15685198123565|     NULL|457287.22267691384|3374.6627407924943|9.000080026938817E7|        NULL|     NULL|3.2097015670226567|156.2618624613235|  NULL|                NULL|                NULL|\n",
      "| stddev|            NULL|1.1257984950991045|   NULL|1024.5049167035797|                NULL|              NaN|2.453251599524789|0.03222026988165846|0.03771110884434943|        NULL|                NULL|13.043234555544782|     NULL| 594760.3466509122|1557.8045681842445|  8183386.845860273|        NULL|     NULL|1.1878683819669238|2037.467210772989|  NULL|                NULL|                NULL|\n",
      "|    min| 26 DE ENERO s/n|                 0|     es|              1000|              Almeda| (CANVI) michelle|               -1|          41.295745|           2.013654|   Barcelona|           Bellvitge|                 0|     sale|           34000.0|               1.0|            1394150|      chalet|Barcelona|                 0|             10.0|  good|https://img3.idea...|https://www.ideal...|\n",
      "|    max|zona correos s/n|                19|     es|               999|Zona Estación - C...|  Ático Les Corts|               st|         41.4850055|          2.1949138|  Viladecans|Vilapicina i la T...|               163|     sale|             1.2E7|           17143.0|           93215144|      studio|Barcelona|                15|         144000.0| renew|https://img3.idea...|https://www.ideal...|\n",
      "+-------+----------------+------------------+-------+------------------+--------------------+-----------------+-----------------+-------------------+-------------------+------------+--------------------+------------------+---------+------------------+------------------+-------------------+------------+---------+------------------+-----------------+------+--------------------+--------------------+\n",
      "\n"
     ]
    },
    {
     "name": "stderr",
     "output_type": "stream",
     "text": [
      "24/06/06 12:49:59 WARN DAGScheduler: Broadcasting large task binary with size 1958.9 KiB\n",
      "                                                                                \r"
     ]
    }
   ],
   "source": [
    "# Invetigate\n",
    "idealista.describe().show()"
   ]
  },
  {
   "cell_type": "code",
   "execution_count": 94,
   "metadata": {},
   "outputs": [
    {
     "name": "stdout",
     "output_type": "stream",
     "text": [
      "root\n",
      " |-- address: string (nullable = true)\n",
      " |-- bathrooms: long (nullable = true)\n",
      " |-- country: string (nullable = true)\n",
      " |-- detailedType: struct (nullable = true)\n",
      " |    |-- subTypology: string (nullable = true)\n",
      " |    |-- typology: string (nullable = true)\n",
      " |-- distance: string (nullable = true)\n",
      " |-- district: string (nullable = true)\n",
      " |-- exterior: boolean (nullable = true)\n",
      " |-- externalReference: string (nullable = true)\n",
      " |-- floor: string (nullable = true)\n",
      " |-- has360: boolean (nullable = true)\n",
      " |-- has3DTour: boolean (nullable = true)\n",
      " |-- hasLift: boolean (nullable = true)\n",
      " |-- hasPlan: boolean (nullable = true)\n",
      " |-- hasStaging: boolean (nullable = true)\n",
      " |-- hasVideo: boolean (nullable = true)\n",
      " |-- latitude: double (nullable = true)\n",
      " |-- longitude: double (nullable = true)\n",
      " |-- municipality: string (nullable = true)\n",
      " |-- neighborhood: string (nullable = true)\n",
      " |-- newDevelopment: boolean (nullable = true)\n",
      " |-- numPhotos: long (nullable = true)\n",
      " |-- operation: string (nullable = true)\n",
      " |-- parkingSpace: struct (nullable = true)\n",
      " |    |-- hasParkingSpace: boolean (nullable = true)\n",
      " |    |-- isParkingSpaceIncludedInPrice: boolean (nullable = true)\n",
      " |    |-- parkingSpacePrice: double (nullable = true)\n",
      " |-- price: double (nullable = true)\n",
      " |-- priceByArea: double (nullable = true)\n",
      " |-- propertyCode: string (nullable = true)\n",
      " |-- propertyType: string (nullable = true)\n",
      " |-- province: string (nullable = true)\n",
      " |-- rooms: long (nullable = true)\n",
      " |-- showAddress: boolean (nullable = true)\n",
      " |-- size: double (nullable = true)\n",
      " |-- status: string (nullable = true)\n",
      " |-- suggestedTexts: struct (nullable = true)\n",
      " |    |-- subtitle: string (nullable = true)\n",
      " |    |-- title: string (nullable = true)\n",
      " |-- thumbnail: string (nullable = true)\n",
      " |-- topNewDevelopment: boolean (nullable = true)\n",
      " |-- url: string (nullable = true)\n",
      " |-- date: date (nullable = true)\n",
      "\n"
     ]
    }
   ],
   "source": [
    "# show schema\n",
    "idealista.printSchema()"
   ]
  },
  {
   "cell_type": "code",
   "execution_count": 95,
   "metadata": {},
   "outputs": [],
   "source": [
    "# Split the 'parkingSpace' struct column into three separate columns\n",
    "idealista  = idealista  \\\n",
    "    .select(\n",
    "        col(\"*\"),\n",
    "        col(\"parkingSpace.hasParkingSpace\").alias(\"hasParkingSpace\"),\n",
    "        col(\"parkingSpace.isParkingSpaceIncludedInPrice\").alias(\"isParkingSpaceIncludedInPrice\"),\n",
    "        col(\"parkingSpace.parkingSpacePrice\").alias(\"parkingSpacePrice\")\n",
    "    ) \\\n",
    "    .drop(\"parkingSpace\")"
   ]
  },
  {
   "cell_type": "code",
   "execution_count": 96,
   "metadata": {},
   "outputs": [],
   "source": [
    "# Split topology into two columns\n",
    "idealista  = idealista  \\\n",
    "    .select(\n",
    "        col(\"*\"),\n",
    "        col(\"detailedType.subTypology\").alias(\"subTypology\"),\n",
    "        col(\"detailedType.typology\").alias(\"typology\")\n",
    "    ) \\\n",
    "    .drop(\"detailedType\")"
   ]
  },
  {
   "cell_type": "code",
   "execution_count": 97,
   "metadata": {},
   "outputs": [
    {
     "name": "stderr",
     "output_type": "stream",
     "text": [
      "24/06/06 12:50:04 WARN DAGScheduler: Broadcasting large task binary with size 3.3 MiB\n",
      "[Stage 311:===================================================> (128 + 3) / 131]\r"
     ]
    },
    {
     "name": "stdout",
     "output_type": "stream",
     "text": [
      "Number of rows: 20040\n"
     ]
    },
    {
     "name": "stderr",
     "output_type": "stream",
     "text": [
      "24/06/06 12:50:07 WARN DAGScheduler: Broadcasting large task binary with size 1738.8 KiB\n",
      "                                                                                \r"
     ]
    }
   ],
   "source": [
    "# drop columns which dont contain useful information\n",
    "idealista = idealista.drop('thumbnail', 'url', 'country' 'suggestedTexts', 'externalReference', 'subTypology', 'suggestedTexts', 'status')\n",
    "\n",
    "# replace floor col with 0 when its st \n",
    "idealista = idealista.withColumn('floor', F.when(F.col('floor') == 'st', 0).otherwise(F.col('floor')))\n",
    "idealista = idealista.withColumn('floor', idealista['floor'].cast(IntegerType()))\n",
    "\n",
    "# Convert to interger\n",
    "idealista = idealista \\\n",
    "    .withColumn(\"distance\", idealista[\"distance\"].cast(\"double\")) \\\n",
    "    .withColumn(\"rooms\", idealista[\"rooms\"].cast(\"integer\")) \\\n",
    "    .withColumn(\"bathrooms\", idealista[\"bathrooms\"].cast(\"integer\")) \n",
    "    \n",
    "row_count = idealista.count()\n",
    "print(\"Number of rows:\", row_count)"
   ]
  },
  {
   "cell_type": "code",
   "execution_count": 98,
   "metadata": {},
   "outputs": [],
   "source": [
    "# filll in missing parking space values with false\n",
    "idealista = idealista.fillna({'hasParkingSpace': False, 'isParkingSpaceIncludedInPrice': False, 'parkingSpacePrice': 0})"
   ]
  },
  {
   "cell_type": "code",
   "execution_count": 99,
   "metadata": {},
   "outputs": [],
   "source": [
    "# Drop if missing values in district and neighborhood\n",
    "idealista = idealista.dropna(subset=['district', 'neighborhood'])"
   ]
  },
  {
   "cell_type": "code",
   "execution_count": 100,
   "metadata": {},
   "outputs": [],
   "source": [
    "# Check for missing values\n",
    "#for col_name in idealista.columns:\n",
    "#    # Check if the column is not of numeric type\n",
    "#    if \"int\" in str(idealista.schema[col_name].dataType) or \"double\" in str(idealista.schema[col_name].dataType):\n",
    "#        missing_count = idealista.filter(F.col(col_name).isNull() | F.isnan(col_name)).count()\n",
    "#    else:\n",
    "#        missing_count = idealista.filter(F.col(col_name).isNull()).count()\n",
    "#    print(f\"Missing values for column {col_name}: {missing_count}\")"
   ]
  },
  {
   "cell_type": "code",
   "execution_count": 101,
   "metadata": {},
   "outputs": [
    {
     "name": "stderr",
     "output_type": "stream",
     "text": [
      "24/06/06 12:50:12 WARN DAGScheduler: Broadcasting large task binary with size 3.4 MiB\n",
      "24/06/06 12:50:14 WARN DAGScheduler: Broadcasting large task binary with size 1841.6 KiB\n",
      "24/06/06 12:50:15 WARN DAGScheduler: Broadcasting large task binary with size 1823.9 KiB\n",
      "24/06/06 12:50:15 WARN DAGScheduler: Broadcasting large task binary with size 1824.2 KiB\n",
      "                                                                                \r"
     ]
    }
   ],
   "source": [
    "# Fill floor\n",
    "floor_imputer = Imputer(strategy='mode', inputCols=['floor'], outputCols=['floor'])\n",
    "idealista = floor_imputer.fit(idealista).transform(idealista)\n",
    "\n",
    "# Fill has lift with false if missing\n",
    "idealista = idealista.fillna({'hasLift': False})"
   ]
  },
  {
   "cell_type": "code",
   "execution_count": 102,
   "metadata": {},
   "outputs": [
    {
     "name": "stderr",
     "output_type": "stream",
     "text": [
      "24/06/06 12:50:20 WARN DAGScheduler: Broadcasting large task binary with size 3.4 MiB\n",
      "[Stage 330:=================================================>   (122 + 8) / 131]\r"
     ]
    },
    {
     "name": "stdout",
     "output_type": "stream",
     "text": [
      "+--------------------+---------+-------+--------+-------------------+--------+-----+------+---------+-------+-------+----------+--------+----------+---------+------------+--------------------+--------------+---------+---------+---------+-----------+------------+------------+---------+-----+-----------+-----+-----------------+----------+---------------+-----------------------------+-----------------+--------+\n",
      "|             address|bathrooms|country|distance|           district|exterior|floor|has360|has3DTour|hasLift|hasPlan|hasStaging|hasVideo|  latitude|longitude|municipality|        neighborhood|newDevelopment|numPhotos|operation|    price|priceByArea|propertyCode|propertyType| province|rooms|showAddress| size|topNewDevelopment|      date|hasParkingSpace|isParkingSpaceIncludedInPrice|parkingSpacePrice|typology|\n",
      "+--------------------+---------+-------+--------+-------------------+--------+-----+------+---------+-------+-------+----------+--------+----------+---------+------------+--------------------+--------------+---------+---------+---------+-----------+------------+------------+---------+-----+-----------+-----+-----------------+----------+---------------+-----------------------------+-----------------+--------+\n",
      "| Calle de Salses, 23|        2|     es|  2588.0|     Horta Guinardó|    true|    1| false|    false|   true|   true|     false|    true|41.4329885|2.1595063|   Barcelona|               Horta|         false|       24|     sale| 500000.0|     5155.0|    93072929|        flat|Barcelona|    3|       true| 97.0|            false|2020-08-06|           true|                        false|          30000.0|    flat|\n",
      "|           Artesania|        1|     es|  1616.0|         Nou Barris|    true|    3| false|    false|   true|   true|     false|   false|41.4447814|2.1704343|   Barcelona|              Verdun|         false|       23|     sale| 216500.0|     2577.0|    92434923|        flat|Barcelona|    3|      false| 84.0|            false|2020-08-06|          false|                        false|              0.0|    flat|\n",
      "| Calle de Salses, 23|        2|     es|  2588.0|     Horta Guinardó|    true|    1| false|    false|   true|   true|     false|    true|41.4329885|2.1595063|   Barcelona|               Horta|         false|       25|     sale| 472500.0|     5431.0|    93072936|        flat|Barcelona|    3|       true| 87.0|            false|2020-08-06|           true|                        false|          30000.0|    flat|\n",
      "|        Finestrelles|        1|     es|  2636.0|        Sant Andreu|    true|    1|  true|    false|  false|   true|     false|   false|41.4522017|2.1897072|   Barcelona|   La Trinitat Vella|         false|       17|     sale|  90000.0|     1500.0|    92472272|        flat|Barcelona|    3|      false| 60.0|            false|2020-08-06|          false|                        false|              0.0|    flat|\n",
      "|Calle d'Arnau d'O...|        1|     es|  3191.0|         Nou Barris|   false|    6|  true|    false|   true|   true|     false|    true|41.4312991|2.1774385|   Barcelona|               Porta|         false|       27|     sale| 165000.0|     3000.0|    92679982|        flat|Barcelona|    2|       true| 55.0|            false|2020-08-06|          false|                        false|              0.0|    flat|\n",
      "|       barrio Verdun|        1|     es|  2110.0|         Nou Barris|    true|    3| false|    false|  false|  false|     false|    true|41.4415491|2.1745457|   Barcelona|              Verdun|         false|       27|     sale| 135000.0|     2045.0|    92888429|        flat|Barcelona|    3|      false| 66.0|            false|2020-08-06|          false|                        false|              0.0|    flat|\n",
      "|barrio Vilapicina...|        2|     es|  3186.0|         Nou Barris|   false|    5| false|    false|   true|   true|     false|   false| 41.428547|2.1682547|   Barcelona|Vilapicina i la T...|         false|       28|     sale| 440000.0|     3520.0|    87734205|   penthouse|Barcelona|    3|      false|125.0|            false|2020-08-06|          false|                        false|              0.0|    flat|\n",
      "|Calle de Sostres,...|        1|     es|   377.0|             Gràcia|    true|    1| false|    false|  false|  false|     false|    true|41.4117367|2.1501916|   Barcelona|            La Salut|         false|       16|     sale| 200000.0|     3175.0|    91627782|      studio|Barcelona|    0|       true| 63.0|            false|2020-10-07|          false|                        false|              0.0|    flat|\n",
      "|    Plaza de Lesseps|        2|     es|   743.0|Sarrià-Sant Gervasi|    true|    2| false|    false|   true|  false|     false|   false| 41.405815| 2.150567|   Barcelona|El Putxet i el Farró|         false|       10|     sale| 410000.0|     3981.0|    92247543|        flat|Barcelona|    4|      false|103.0|            false|2020-10-07|          false|                        false|              0.0|    flat|\n",
      "|  Calle de Praga, 18|        1|     es|   779.0|     Horta Guinardó|    true|    1|  true|    false|   true|  false|     false|    true|  41.41337|2.1638099|   Barcelona|    El Baix Guinardó|         false|       32|     sale| 300000.0|     3529.0|    90016751|        flat|Barcelona|    3|       true| 85.0|            false|2020-10-07|          false|                        false|              0.0|    flat|\n",
      "|     barrio Can Baró|        2|     es|   660.0|     Horta Guinardó|   false|    8| false|    false|   true|   true|     false|   false|41.4136736|2.1622082|   Barcelona|            Can Baró|         false|       34|     sale| 495000.0|     4267.0|    89447341|   penthouse|Barcelona|    3|      false|116.0|            false|2020-10-07|           true|                         true|              0.0|    flat|\n",
      "|barrio Vila de Gr...|        2|     es|   354.0|             Gràcia|    true|    3|  true|    false|   true|  false|     false|   false|41.4085612|2.1542429|   Barcelona|      Vila de Gràcia|         false|       28|     sale| 375000.0|     3906.0|    92185673|        flat|Barcelona|    3|      false| 96.0|            false|2020-10-07|          false|                        false|              0.0|    flat|\n",
      "|           velazquez|        2|     es|   794.0|             Gràcia|    true|    2|  true|    false|   true|   true|     false|   false|41.4068947|2.1477105|   Barcelona|Vallcarca i els P...|         false|       21|     sale| 580000.0|     5800.0|    92242802|        flat|Barcelona|    4|      false|100.0|            false|2020-10-07|          false|                        false|              0.0|    flat|\n",
      "|barrio El Camp d'...|        2|     es|   668.0|             Gràcia|   false|    1| false|    false|  false|   true|     false|    true|41.4113114|2.1627086|   Barcelona|El Camp d'En Gras...|         false|       32|     sale| 660000.0|     5280.0|    93132138|      chalet|Barcelona|    2|      false|125.0|            false|2020-10-07|          false|                        false|              0.0|  chalet|\n",
      "|Calle de les Camè...|        2|     es|   804.0|     Horta Guinardó|    true|    1| false|    false|   true|  false|     false|   false|41.4117876|2.1643701|   Barcelona|    El Baix Guinardó|         false|       19|     sale| 368000.0|     4329.0|    92816084|        flat|Barcelona|    3|      false| 85.0|            false|2020-10-07|          false|                        false|              0.0|    flat|\n",
      "|     barrio Can Baró|        1|     es|   805.0|     Horta Guinardó|   false|    1| false|    false|   true|   true|     false|   false| 41.417384|2.1607676|   Barcelona|            Can Baró|         false|       27|     sale| 210000.0|     3333.0|    91394499|        flat|Barcelona|    3|      false| 63.0|            false|2020-10-07|          false|                        false|              0.0|    flat|\n",
      "|Calle Gran de Grà...|        2|     es|   847.0|             Gràcia|    true|    1| false|    false|  false|  false|     false|   false|41.4044014|2.1519501|   Barcelona|      Vila de Gràcia|         false|       24|     sale| 424000.0|     4077.0|    92651590|        flat|Barcelona|    4|       true|104.0|            false|2020-10-07|          false|                        false|              0.0|    flat|\n",
      "|       barrio Sarrià|        3|     es|   625.0|Sarrià-Sant Gervasi|   false|    1| false|    false|  false|   true|     false|   false|41.4075965|2.1120643|   Barcelona|              Sarrià|         false|       30|     sale|1150000.0|     3059.0|    91784806|      chalet|Barcelona|    5|      false|376.0|            false|2020-12-04|           true|                         true|              0.0|  chalet|\n",
      "|Calle de Sol i Pa...|        3|     es|   673.0|Sarrià-Sant Gervasi|    true|    1| false|     true|   true|   true|     false|    true|41.4004686| 2.120838|   Barcelona|              Sarrià|         false|       54|     sale|1180000.0|     3565.0|    91299611|        flat|Barcelona|    5|      false|331.0|            false|2020-12-04|           true|                         true|              0.0|    flat|\n",
      "|Calle de Sol i Pa...|        5|     es|   818.0|Sarrià-Sant Gervasi|    true|    1| false|     true|   true|   true|     false|   false|41.3990686| 2.119438|   Barcelona|              Sarrià|         false|       27|     sale|1460000.0|     4411.0|    92058181|        flat|Barcelona|    5|      false|331.0|            false|2020-12-04|          false|                        false|              0.0|    flat|\n",
      "+--------------------+---------+-------+--------+-------------------+--------+-----+------+---------+-------+-------+----------+--------+----------+---------+------------+--------------------+--------------+---------+---------+---------+-----------+------------+------------+---------+-----+-----------+-----+-----------------+----------+---------------+-----------------------------+-----------------+--------+\n",
      "only showing top 20 rows\n",
      "\n"
     ]
    },
    {
     "name": "stderr",
     "output_type": "stream",
     "text": [
      "24/06/06 12:50:22 WARN DAGScheduler: Broadcasting large task binary with size 1843.9 KiB\n",
      "                                                                                \r"
     ]
    }
   ],
   "source": [
    "idealista.show(20)"
   ]
  },
  {
   "cell_type": "code",
   "execution_count": 103,
   "metadata": {},
   "outputs": [],
   "source": [
    "def find_outliers(df, column_names):\n",
    "\n",
    "    for column in column_names:\n",
    "\n",
    "        less_Q1 = 'less_Q1_{}'.format(column)\n",
    "        more_Q3 = 'more_Q3_{}'.format(column)\n",
    "        Q1 = 'Q1_{}'.format(column)\n",
    "        Q3 = 'Q3_{}'.format(column)\n",
    "\n",
    "        # Q1 : First Quartile ., Q3 : Third Quartile\n",
    "        Q1 = df.approxQuantile(column,[0.25],relativeError=0)\n",
    "        Q3 = df.approxQuantile(column,[0.75],relativeError=0)\n",
    "        \n",
    "        # IQR : Inter Quantile Range\n",
    "        IQR = Q3[0] - Q1[0]\n",
    "        \n",
    "        #selecting the data, with -2.5*IQR to + 2.5*IQR\n",
    "        less_Q1 =  Q1[0] - 2.5*IQR\n",
    "        more_Q3 =  Q3[0] + 2.5*IQR\n",
    "        \n",
    "        isOutlierCol = 'is_outlier_{}'.format(column)\n",
    "        \n",
    "        df = df.withColumn(isOutlierCol,F.when((df[column] > more_Q3) | (df[column] < less_Q1), 1).otherwise(0))\n",
    "    \n",
    "\n",
    "    # Selecting the specific columns which we have added above, to check if there are any outliers\n",
    "    selected_columns = [column for column in df.columns if column.startswith(\"is_outlier\")]\n",
    "\n",
    "    # Adding all the outlier columns into a new colum \"total_outliers\", to see the total number of outliers\n",
    "    df = df.withColumn('total_outliers',sum(df[column] for column in selected_columns))\n",
    "\n",
    "    # Dropping the extra columns created above, just to create nice dataframe., without extra columns\n",
    "    df = df.drop(*[column for column in df.columns if column.startswith(\"is_outlier\")])\n",
    "\n",
    "    # drop total_outliers column \n",
    "    df = df.drop('total_outliers')\n",
    "\n",
    "    return df\n",
    "    "
   ]
  },
  {
   "cell_type": "code",
   "execution_count": 104,
   "metadata": {},
   "outputs": [
    {
     "name": "stderr",
     "output_type": "stream",
     "text": [
      "24/06/06 12:50:27 WARN DAGScheduler: Broadcasting large task binary with size 3.3 MiB\n",
      "24/06/06 12:50:29 WARN DAGScheduler: Broadcasting large task binary with size 1685.6 KiB\n",
      "24/06/06 12:50:31 WARN DAGScheduler: Broadcasting large task binary with size 3.3 MiB\n",
      "24/06/06 12:50:33 WARN DAGScheduler: Broadcasting large task binary with size 1685.6 KiB\n",
      "24/06/06 12:50:35 WARN DAGScheduler: Broadcasting large task binary with size 3.3 MiB\n",
      "24/06/06 12:50:37 WARN DAGScheduler: Broadcasting large task binary with size 1685.6 KiB\n",
      "24/06/06 12:50:39 WARN DAGScheduler: Broadcasting large task binary with size 3.3 MiB\n",
      "24/06/06 12:50:41 WARN DAGScheduler: Broadcasting large task binary with size 1685.6 KiB\n",
      "24/06/06 12:50:42 WARN DAGScheduler: Broadcasting large task binary with size 3.3 MiB\n",
      "24/06/06 12:50:44 WARN DAGScheduler: Broadcasting large task binary with size 1685.6 KiB\n",
      "24/06/06 12:50:46 WARN DAGScheduler: Broadcasting large task binary with size 3.3 MiB\n",
      "24/06/06 12:50:48 WARN DAGScheduler: Broadcasting large task binary with size 1685.6 KiB\n",
      "                                                                                \r"
     ]
    }
   ],
   "source": [
    "idealista = find_outliers(idealista, ['price' ,'priceByArea', 'size'])"
   ]
  },
  {
   "cell_type": "code",
   "execution_count": 105,
   "metadata": {},
   "outputs": [
    {
     "name": "stderr",
     "output_type": "stream",
     "text": [
      "24/06/06 12:50:50 WARN DAGScheduler: Broadcasting large task binary with size 3.4 MiB\n",
      "[Stage 351:=================================================>   (122 + 8) / 131]\r"
     ]
    },
    {
     "name": "stdout",
     "output_type": "stream",
     "text": [
      "Number of rows: 12267\n"
     ]
    },
    {
     "name": "stderr",
     "output_type": "stream",
     "text": [
      "24/06/06 12:50:52 WARN DAGScheduler: Broadcasting large task binary with size 1818.7 KiB\n",
      "                                                                                \r"
     ]
    }
   ],
   "source": [
    "row_count = idealista.count()\n",
    "print(\"Number of rows:\", row_count)"
   ]
  },
  {
   "cell_type": "code",
   "execution_count": 106,
   "metadata": {},
   "outputs": [],
   "source": [
    "# Create year and month columns\n",
    "idealista = idealista.withColumn('year', F.year(F.to_timestamp('date', 'yyyy-MM-dd')))"
   ]
  },
  {
   "cell_type": "code",
   "execution_count": 107,
   "metadata": {},
   "outputs": [],
   "source": [
    "# Rename columns to lowercase\n",
    "idealista = idealista.toDF(*[c.lower() for c in idealista.columns])"
   ]
  },
  {
   "cell_type": "code",
   "execution_count": 109,
   "metadata": {},
   "outputs": [
    {
     "name": "stderr",
     "output_type": "stream",
     "text": [
      "24/06/06 12:51:10 WARN DAGScheduler: Broadcasting large task binary with size 3.4 MiB\n",
      "24/06/06 12:51:15 WARN DAGScheduler: Broadcasting large task binary with size 2045.6 KiB\n",
      "                                                                                \r"
     ]
    }
   ],
   "source": [
    "# write data to  Parquet format, partitioned by year\n",
    "idealista.write.partitionBy('year').mode('overwrite').parquet(\"../formatted_zone/idealista.parquet\")"
   ]
  },
  {
   "cell_type": "code",
   "execution_count": 110,
   "metadata": {},
   "outputs": [
    {
     "name": "stdout",
     "output_type": "stream",
     "text": [
      "root\n",
      " |-- address: string (nullable = true)\n",
      " |-- bathrooms: integer (nullable = true)\n",
      " |-- country: string (nullable = true)\n",
      " |-- distance: double (nullable = true)\n",
      " |-- district: string (nullable = true)\n",
      " |-- exterior: boolean (nullable = true)\n",
      " |-- floor: integer (nullable = true)\n",
      " |-- has360: boolean (nullable = true)\n",
      " |-- has3dtour: boolean (nullable = true)\n",
      " |-- haslift: boolean (nullable = false)\n",
      " |-- hasplan: boolean (nullable = true)\n",
      " |-- hasstaging: boolean (nullable = true)\n",
      " |-- hasvideo: boolean (nullable = true)\n",
      " |-- latitude: double (nullable = true)\n",
      " |-- longitude: double (nullable = true)\n",
      " |-- municipality: string (nullable = true)\n",
      " |-- neighborhood: string (nullable = true)\n",
      " |-- newdevelopment: boolean (nullable = true)\n",
      " |-- numphotos: long (nullable = true)\n",
      " |-- operation: string (nullable = true)\n",
      " |-- price: double (nullable = true)\n",
      " |-- pricebyarea: double (nullable = true)\n",
      " |-- propertycode: string (nullable = true)\n",
      " |-- propertytype: string (nullable = true)\n",
      " |-- province: string (nullable = true)\n",
      " |-- rooms: integer (nullable = true)\n",
      " |-- showaddress: boolean (nullable = true)\n",
      " |-- size: double (nullable = true)\n",
      " |-- topnewdevelopment: boolean (nullable = true)\n",
      " |-- date: date (nullable = true)\n",
      " |-- hasparkingspace: boolean (nullable = false)\n",
      " |-- isparkingspaceincludedinprice: boolean (nullable = false)\n",
      " |-- parkingspaceprice: double (nullable = false)\n",
      " |-- typology: string (nullable = true)\n",
      " |-- year: integer (nullable = true)\n",
      "\n"
     ]
    }
   ],
   "source": [
    "idealista.printSchema()"
   ]
  },
  {
   "cell_type": "markdown",
   "metadata": {},
   "source": [
    "# Prices data"
   ]
  },
  {
   "cell_type": "code",
   "execution_count": 111,
   "metadata": {},
   "outputs": [],
   "source": [
    "prices_file = \"../datasets/price_opendata/price_opendata_neighborhood.json\"\n",
    "prices_df = spark.read.json(prices_file)"
   ]
  },
  {
   "cell_type": "code",
   "execution_count": 112,
   "metadata": {},
   "outputs": [
    {
     "name": "stdout",
     "output_type": "stream",
     "text": [
      "root\n",
      " |-- _id: long (nullable = true)\n",
      " |-- district_id: long (nullable = true)\n",
      " |-- district_name: string (nullable = true)\n",
      " |-- info: array (nullable = true)\n",
      " |    |-- element: struct (containsNull = true)\n",
      " |    |    |-- Amount: double (nullable = true)\n",
      " |    |    |-- PerMeter: double (nullable = true)\n",
      " |    |    |-- diffAmount: double (nullable = true)\n",
      " |    |    |-- diffPerMeter: double (nullable = true)\n",
      " |    |    |-- usedAmount: double (nullable = true)\n",
      " |    |    |-- usedPerMeter: double (nullable = true)\n",
      " |    |    |-- year: long (nullable = true)\n",
      " |-- neigh_name : string (nullable = true)\n",
      "\n"
     ]
    }
   ],
   "source": [
    "prices_df.printSchema()"
   ]
  },
  {
   "cell_type": "code",
   "execution_count": 113,
   "metadata": {},
   "outputs": [
    {
     "name": "stdout",
     "output_type": "stream",
     "text": [
      "root\n",
      " |-- _id: long (nullable = true)\n",
      " |-- district_id: long (nullable = true)\n",
      " |-- district_name: string (nullable = true)\n",
      " |-- info: struct (nullable = true)\n",
      " |    |-- Amount: double (nullable = true)\n",
      " |    |-- PerMeter: double (nullable = true)\n",
      " |    |-- diffAmount: double (nullable = true)\n",
      " |    |-- diffPerMeter: double (nullable = true)\n",
      " |    |-- usedAmount: double (nullable = true)\n",
      " |    |-- usedPerMeter: double (nullable = true)\n",
      " |    |-- year: long (nullable = true)\n",
      " |-- neigh_name : string (nullable = true)\n",
      "\n"
     ]
    }
   ],
   "source": [
    "# Flatten the nested structure\n",
    "prices_df = prices_df.withColumn(\"info\", explode(\"info\"))\n",
    "prices_df.printSchema()"
   ]
  },
  {
   "cell_type": "code",
   "execution_count": 114,
   "metadata": {},
   "outputs": [],
   "source": [
    "# Split into individual columns\n",
    "prices_df  = prices_df  \\\n",
    "    .select(\n",
    "        col(\"*\"),\n",
    "        col(\"info.Amount\").alias(\"amount\"),\n",
    "        col(\"info.PerMeter\").alias(\"per_meter\"),\n",
    "        col(\"info.diffAmount\").alias(\"diff_amount\"),\n",
    "        col(\"info.diffPerMeter\").alias(\"diff_per_meter\"),\n",
    "        col(\"info.usedAmount\").alias(\"used_amount\"),\n",
    "        col(\"info.usedPerMeter\").alias(\"used_per_meter\"),\n",
    "        col(\"info.year\").alias(\"year\")\n",
    "    ) \\\n",
    "    .drop(\"info\")"
   ]
  },
  {
   "cell_type": "code",
   "execution_count": 115,
   "metadata": {},
   "outputs": [
    {
     "name": "stdout",
     "output_type": "stream",
     "text": [
      "root\n",
      " |-- _id: long (nullable = true)\n",
      " |-- district_id: long (nullable = true)\n",
      " |-- district_name: string (nullable = true)\n",
      " |-- neigh_name : string (nullable = true)\n",
      " |-- amount: double (nullable = true)\n",
      " |-- per_meter: double (nullable = true)\n",
      " |-- diff_amount: double (nullable = true)\n",
      " |-- diff_per_meter: double (nullable = true)\n",
      " |-- used_amount: double (nullable = true)\n",
      " |-- used_per_meter: double (nullable = true)\n",
      " |-- year: long (nullable = true)\n",
      "\n"
     ]
    }
   ],
   "source": [
    "prices_df.printSchema()"
   ]
  },
  {
   "cell_type": "code",
   "execution_count": 116,
   "metadata": {},
   "outputs": [
    {
     "name": "stdout",
     "output_type": "stream",
     "text": [
      "+---+-----------+-------------+-----------+------+---------+-----------+--------------+-----------+--------------+----+\n",
      "|_id|district_id|district_name|neigh_name |amount|per_meter|diff_amount|diff_per_meter|used_amount|used_per_meter|year|\n",
      "+---+-----------+-------------+-----------+------+---------+-----------+--------------+-----------+--------------+----+\n",
      "|  1|          1| Ciutat Vella|   el Raval|  97.0|   1726.5|       NULL|          NULL|       97.0|        1726.5|2013|\n",
      "|  1|          1| Ciutat Vella|   el Raval| 141.7|   2087.6|       99.1|        2534.3|      143.1|        2073.5|2014|\n",
      "|  1|          1| Ciutat Vella|   el Raval| 193.8|   2401.9|       NULL|          NULL|      193.8|        2401.9|2015|\n",
      "|  1|          1| Ciutat Vella|   el Raval| 181.0|   2805.2|       NULL|          NULL|      180.7|        2798.6|2016|\n",
      "|  1|          1| Ciutat Vella|   el Raval| 240.3|   3469.9|      292.5|        3633.1|      240.0|        3468.9|2017|\n",
      "+---+-----------+-------------+-----------+------+---------+-----------+--------------+-----------+--------------+----+\n",
      "only showing top 5 rows\n",
      "\n"
     ]
    }
   ],
   "source": [
    "prices_df = prices_df.withColumn('year', prices_df['year'].cast(IntegerType()))\n",
    "prices_df.show(5)"
   ]
  },
  {
   "cell_type": "code",
   "execution_count": 117,
   "metadata": {},
   "outputs": [],
   "source": [
    "# drop duplicates\n",
    "prices_df = prices_df.dropDuplicates()"
   ]
  },
  {
   "cell_type": "code",
   "execution_count": 118,
   "metadata": {},
   "outputs": [
    {
     "name": "stdout",
     "output_type": "stream",
     "text": [
      "Missing values for column _id: 0\n",
      "Missing values for column district_id: 0\n",
      "Missing values for column district_name: 0\n",
      "Missing values for column neigh_name : 0\n",
      "Missing values for column amount: 0\n",
      "Missing values for column per_meter: 0\n",
      "Missing values for column diff_amount: 149\n",
      "Missing values for column diff_per_meter: 148\n",
      "Missing values for column used_amount: 2\n",
      "Missing values for column used_per_meter: 2\n",
      "Missing values for column year: 0\n"
     ]
    }
   ],
   "source": [
    "# Check for missing values\n",
    "for col_name in prices_df.columns:\n",
    "    # Check if the column is not of numeric type\n",
    "    if \"int\" in str(prices_df.schema[col_name].dataType) or \"double\" in str(prices_df.schema[col_name].dataType):\n",
    "        missing_count = prices_df.filter(F.col(col_name).isNull() | F.isnan(col_name)).count()\n",
    "    else:\n",
    "        missing_count = prices_df.filter(F.col(col_name).isNull()).count()\n",
    "    print(f\"Missing values for column {col_name}: {missing_count}\")"
   ]
  },
  {
   "cell_type": "code",
   "execution_count": 119,
   "metadata": {},
   "outputs": [
    {
     "name": "stdout",
     "output_type": "stream",
     "text": [
      "Number of rows: 359\n"
     ]
    }
   ],
   "source": [
    "row_count = prices_df.count()\n",
    "print(\"Number of rows:\", row_count)"
   ]
  },
  {
   "cell_type": "code",
   "execution_count": 120,
   "metadata": {},
   "outputs": [],
   "source": [
    "# drop diff_amount and diff_per_meter as mostly missing values\n",
    "prices_df = prices_df.drop('diff_amount', 'diff_per_meter')"
   ]
  },
  {
   "cell_type": "code",
   "execution_count": 121,
   "metadata": {},
   "outputs": [],
   "source": [
    "# Create an Imputer object to fill missing values with mean, median, etc.\n",
    "\n",
    "imputer = Imputer(inputCols=['used_amount', 'used_per_meter'], outputCols=['used_amount', 'used_per_meter'])\n",
    "\n",
    "# Fit the imputer to the data and transform\n",
    "prices_df = imputer.fit(prices_df).transform(prices_df)"
   ]
  },
  {
   "cell_type": "code",
   "execution_count": 122,
   "metadata": {},
   "outputs": [
    {
     "name": "stdout",
     "output_type": "stream",
     "text": [
      "Missing values for column _id: 0\n",
      "Missing values for column district_id: 0\n",
      "Missing values for column district_name: 0\n",
      "Missing values for column neigh_name : 0\n",
      "Missing values for column amount: 0\n",
      "Missing values for column per_meter: 0\n",
      "Missing values for column used_amount: 0\n",
      "Missing values for column used_per_meter: 0\n",
      "Missing values for column year: 0\n"
     ]
    }
   ],
   "source": [
    "# Check for missing values\n",
    "for col_name in prices_df.columns:\n",
    "    # Check if the column is not of numeric type\n",
    "    if \"int\" in str(prices_df.schema[col_name].dataType) or \"double\" in str(prices_df.schema[col_name].dataType):\n",
    "        missing_count = prices_df.filter(F.col(col_name).isNull() | F.isnan(col_name)).count()\n",
    "    else:\n",
    "        missing_count = prices_df.filter(F.col(col_name).isNull()).count()\n",
    "    print(f\"Missing values for column {col_name}: {missing_count}\")"
   ]
  },
  {
   "cell_type": "code",
   "execution_count": 123,
   "metadata": {},
   "outputs": [],
   "source": [
    "# Rename columns to lowercase\n",
    "prices_df = prices_df.toDF(*[c.lower() for c in prices_df.columns])\n",
    "\n",
    "# renmae district_name to district\n",
    "prices_df = prices_df.withColumnRenamed('district_name', 'district')\n",
    "\n",
    "# rename neigh_name to neighborhood\n",
    "prices_df = prices_df.withColumnRenamed('neigh_name ', 'neighborhood')"
   ]
  },
  {
   "cell_type": "code",
   "execution_count": 124,
   "metadata": {},
   "outputs": [],
   "source": [
    "# write data to  Parquet format, partitioned by year\n",
    "prices_df.write.partitionBy('year').mode('overwrite').parquet(\"../formatted_zone/prices.parquet\")"
   ]
  },
  {
   "cell_type": "markdown",
   "metadata": {},
   "source": [
    "# Income data"
   ]
  },
  {
   "cell_type": "code",
   "execution_count": 125,
   "metadata": {},
   "outputs": [
    {
     "name": "stdout",
     "output_type": "stream",
     "text": [
      "root\n",
      " |-- Any: string (nullable = true)\n",
      " |-- Codi_Districte: string (nullable = true)\n",
      " |-- Nom_Districte: string (nullable = true)\n",
      " |-- Codi_Barri: string (nullable = true)\n",
      " |-- Nom_Barri: string (nullable = true)\n",
      " |-- Població: string (nullable = true)\n",
      " |-- Índex RFD Barcelona = 100: string (nullable = true)\n",
      " |-- filename: string (nullable = false)\n",
      "\n"
     ]
    }
   ],
   "source": [
    "# Read all CSV files into a single DataFrame and add the file name as a column\n",
    "income = spark.read.format(\"csv\").option(\"header\", \"true\").load(\"../datasets/income/*.csv\") \\\n",
    "    .withColumn(\"filename\", input_file_name())\n",
    "\n",
    "\n",
    "income.printSchema()\n"
   ]
  },
  {
   "cell_type": "code",
   "execution_count": 126,
   "metadata": {},
   "outputs": [
    {
     "name": "stdout",
     "output_type": "stream",
     "text": [
      "+----+--------------+-------------+----------+--------------------+--------+-------------------------+--------------------+\n",
      "| Any|Codi_Districte|Nom_Districte|Codi_Barri|           Nom_Barri|Població|Índex RFD Barcelona = 100|            filename|\n",
      "+----+--------------+-------------+----------+--------------------+--------+-------------------------+--------------------+\n",
      "|2007|             1| Ciutat Vella|         1|            el Raval|   46595|                     64.7|file:///Users/jon...|\n",
      "|2007|             1| Ciutat Vella|         2|      el Barri Gòtic|   27946|                     86.5|file:///Users/jon...|\n",
      "|2007|             1| Ciutat Vella|         3|      la Barceloneta|   15921|                     66.7|file:///Users/jon...|\n",
      "|2007|             1| Ciutat Vella|         4|Sant Pere, Santa ...|   22572|                     80.2|file:///Users/jon...|\n",
      "|2007|             2|     Eixample|         5|       el Fort Pienc|   31521|                    107.9|file:///Users/jon...|\n",
      "+----+--------------+-------------+----------+--------------------+--------+-------------------------+--------------------+\n",
      "only showing top 5 rows\n",
      "\n"
     ]
    }
   ],
   "source": [
    "income.show(5)"
   ]
  },
  {
   "cell_type": "code",
   "execution_count": 127,
   "metadata": {},
   "outputs": [],
   "source": [
    "# drop filename column\n",
    "income = income.drop('filename')\n",
    "\n",
    "# rename any column year\n",
    "income = income.withColumnRenamed('Any', 'year')\n",
    "\n",
    "# rename Nom_Districte to district and Nom_Barri to neighborhood\n",
    "income = income.withColumnRenamed('Nom_Districte', 'district').withColumnRenamed('Nom_Barri', 'neighborhood')\n",
    "income = income.withColumnRenamed('Codi_Districte', 'district_id')\n",
    "#rename Index RFD to index_rfd\n",
    "income = income.withColumnRenamed('Índex RFD Barcelona = 100', 'index_rfd')\n",
    "\n",
    "# rename all columns to lowercase\n",
    "income = income.toDF(*[c.lower() for c in income.columns])"
   ]
  },
  {
   "cell_type": "code",
   "execution_count": 128,
   "metadata": {},
   "outputs": [
    {
     "name": "stdout",
     "output_type": "stream",
     "text": [
      "Missing values for column year: 0\n",
      "Missing values for column district_id: 0\n",
      "Missing values for column district: 0\n",
      "Missing values for column codi_barri: 0\n",
      "Missing values for column neighborhood: 0\n",
      "Missing values for column població: 0\n",
      "Missing values for column index_rfd: 0\n"
     ]
    }
   ],
   "source": [
    "# Check for missing values\n",
    "for col_name in income.columns:\n",
    "    # Check if the column is not of numeric type\n",
    "    if \"int\" in str(income.schema[col_name].dataType) or \"double\" in str(income.schema[col_name].dataType):\n",
    "        missing_count = income.filter(F.col(col_name).isNull() | F.isnan(col_name)).count()\n",
    "    else:\n",
    "        missing_count = income.filter(F.col(col_name).isNull()).count()\n",
    "    print(f\"Missing values for column {col_name}: {missing_count}\")"
   ]
  },
  {
   "cell_type": "code",
   "execution_count": 129,
   "metadata": {},
   "outputs": [],
   "source": [
    "# write data to  Parquet format, partitioned by year\n",
    "income.write.partitionBy('year').mode('overwrite').parquet(\"../formatted_zone/income.parquet\")"
   ]
  },
  {
   "cell_type": "markdown",
   "metadata": {},
   "source": [
    "# Lookup data"
   ]
  },
  {
   "cell_type": "code",
   "execution_count": 130,
   "metadata": {},
   "outputs": [],
   "source": [
    "idealista_lookup_file = \"../datasets/lookup_tables/idealista_extended.csv\"\n",
    "idealista_lookup_df = spark.read.csv(idealista_lookup_file, header=True)"
   ]
  },
  {
   "cell_type": "code",
   "execution_count": 131,
   "metadata": {},
   "outputs": [
    {
     "name": "stdout",
     "output_type": "stream",
     "text": [
      "root\n",
      " |-- district: string (nullable = true)\n",
      " |-- neighborhood: string (nullable = true)\n",
      " |-- district_n_reconciled: string (nullable = true)\n",
      " |-- district_n: string (nullable = true)\n",
      " |-- district_id: string (nullable = true)\n",
      " |-- neighborhood_n_reconciled: string (nullable = true)\n",
      " |-- neighborhood_n: string (nullable = true)\n",
      " |-- neighborhood_id: string (nullable = true)\n",
      "\n"
     ]
    }
   ],
   "source": [
    "idealista_lookup_df.printSchema()"
   ]
  },
  {
   "cell_type": "code",
   "execution_count": 132,
   "metadata": {},
   "outputs": [
    {
     "name": "stdout",
     "output_type": "stream",
     "text": [
      "+--------------+--------------------+---------------------+--------------+-----------+-------------------------+--------------------+---------------+\n",
      "|      district|        neighborhood|district_n_reconciled|    district_n|district_id|neighborhood_n_reconciled|      neighborhood_n|neighborhood_id|\n",
      "+--------------+--------------------+---------------------+--------------+-----------+-------------------------+--------------------+---------------+\n",
      "|Sants-Montjuïc|  La Marina del Port|       Sants-Montjuïc|sants montjuic|    Q753075|        La Marina de Port|  la marina del port|       Q3751076|\n",
      "|Horta Guinardó|    El Baix Guinardó|       Horta-Guinardó|horta guinardo|   Q1771488|         El Baix Guinardó|    el baix guinardo|       Q3297875|\n",
      "|      Eixample|La Dreta de l'Eix...|             Eixample|      eixample|     Q64124|      Dreta de l'Eixample|la dreta de l eix...|       Q1904302|\n",
      "|   Sant Andreu|El Congrés i els ...|          Sant Andreu|   sant andreu|   Q1650230|     El Congrés i els ...|el congres i els ...|       Q3813818|\n",
      "|Horta Guinardó|           El Carmel|       Horta-Guinardó|horta guinardo|   Q1771488|                El Carmel|           el carmel|       Q3319498|\n",
      "+--------------+--------------------+---------------------+--------------+-----------+-------------------------+--------------------+---------------+\n",
      "only showing top 5 rows\n",
      "\n"
     ]
    }
   ],
   "source": [
    "idealista_lookup_df.show(5)"
   ]
  },
  {
   "cell_type": "code",
   "execution_count": 133,
   "metadata": {},
   "outputs": [
    {
     "name": "stdout",
     "output_type": "stream",
     "text": [
      "Missing values for column district: 0\n",
      "Missing values for column neighborhood: 0\n",
      "Missing values for column district_n_reconciled: 0\n",
      "Missing values for column district_n: 0\n",
      "Missing values for column district_id: 0\n",
      "Missing values for column neighborhood_n_reconciled: 0\n",
      "Missing values for column neighborhood_n: 0\n",
      "Missing values for column neighborhood_id: 0\n"
     ]
    }
   ],
   "source": [
    "# Check for missing values\n",
    "for col_name in idealista_lookup_df.columns:\n",
    "    # Check if the column is not of numeric type\n",
    "    if \"int\" in str(idealista_lookup_df.schema[col_name].dataType) or \"double\" in str(idealista_lookup_df.schema[col_name].dataType):\n",
    "        missing_count = idealista_lookup_df.filter(F.col(col_name).isNull() | F.isnan(col_name)).count()\n",
    "    else:\n",
    "        missing_count = idealista_lookup_df.filter(F.col(col_name).isNull()).count()\n",
    "    print(f\"Missing values for column {col_name}: {missing_count}\")"
   ]
  },
  {
   "cell_type": "code",
   "execution_count": 134,
   "metadata": {},
   "outputs": [],
   "source": [
    "# write data to  Parquet format\n",
    "idealista_lookup_df.write.mode('overwrite').parquet(\"../formatted_zone/idealista_lookup.parquet\")"
   ]
  },
  {
   "cell_type": "code",
   "execution_count": 135,
   "metadata": {},
   "outputs": [
    {
     "name": "stdout",
     "output_type": "stream",
     "text": [
      "root\n",
      " |-- district: string (nullable = true)\n",
      " |-- neighborhood: string (nullable = true)\n",
      " |-- district_n_reconciled: string (nullable = true)\n",
      " |-- district_n: string (nullable = true)\n",
      " |-- district_id: string (nullable = true)\n",
      " |-- neighborhood_n_reconciled: string (nullable = true)\n",
      " |-- neighborhood_n: string (nullable = true)\n",
      " |-- neighborhood_id: string (nullable = true)\n",
      "\n"
     ]
    }
   ],
   "source": [
    "income_lookup_file = \"../datasets/lookup_tables/income_opendatabcn_extended.csv\"\n",
    "income_lookup_df = spark.read.csv(income_lookup_file, header=True)\n",
    "income_lookup_df.printSchema()"
   ]
  },
  {
   "cell_type": "code",
   "execution_count": 136,
   "metadata": {},
   "outputs": [
    {
     "name": "stdout",
     "output_type": "stream",
     "text": [
      "Missing values for column district: 0\n",
      "Missing values for column neighborhood: 0\n",
      "Missing values for column district_n_reconciled: 0\n",
      "Missing values for column district_n: 0\n",
      "Missing values for column district_id: 0\n",
      "Missing values for column neighborhood_n_reconciled: 0\n",
      "Missing values for column neighborhood_n: 0\n",
      "Missing values for column neighborhood_id: 0\n"
     ]
    }
   ],
   "source": [
    "# Check for missing values\n",
    "for col_name in income_lookup_df.columns:\n",
    "    # Check if the column is not of numeric type\n",
    "    if \"int\" in str(income_lookup_df.schema[col_name].dataType) or \"double\" in str(income_lookup_df.schema[col_name].dataType):\n",
    "        missing_count = income_lookup_df.filter(F.col(col_name).isNull() | F.isnan(col_name)).count()\n",
    "    else:\n",
    "        missing_count = income_lookup_df.filter(F.col(col_name).isNull()).count()\n",
    "    print(f\"Missing values for column {col_name}: {missing_count}\")"
   ]
  },
  {
   "cell_type": "code",
   "execution_count": 137,
   "metadata": {},
   "outputs": [
    {
     "name": "stdout",
     "output_type": "stream",
     "text": [
      "+-------------------+--------------------+---------------------+-------------------+-----------+-------------------------+--------------------+---------------+\n",
      "|           district|        neighborhood|district_n_reconciled|         district_n|district_id|neighborhood_n_reconciled|      neighborhood_n|neighborhood_id|\n",
      "+-------------------+--------------------+---------------------+-------------------+-----------+-------------------------+--------------------+---------------+\n",
      "|       Ciutat Vella|      el Barri Gòtic|         Ciutat Vella|       ciutat vella|    Q941385|           Gothic Quarter|      el barri gotic|         Q17154|\n",
      "|         Nou Barris|         Can Peguera|           Nou Barris|         nou barris|   Q1641049|              Can Peguera|         can peguera|       Q3320716|\n",
      "|         Nou Barris|    la Trinitat Nova|           Nou Barris|         nou barris|   Q1641049|         La Trinitat Nova|    la trinitat nova|       Q3750932|\n",
      "|Sarrià-Sant Gervasi|Sant Gervasi - la...|  Sarrià-Sant Gervasi|sarria sant gervasi|   Q1765582|     Sant Gervasi – la...|sant gervasi la b...|       Q3321657|\n",
      "|Sarrià-Sant Gervasi|     les Tres Torres|  Sarrià-Sant Gervasi|sarria sant gervasi|   Q1765582|          Les Tres Torres|     les tres torres|       Q3297896|\n",
      "+-------------------+--------------------+---------------------+-------------------+-----------+-------------------------+--------------------+---------------+\n",
      "only showing top 5 rows\n",
      "\n"
     ]
    }
   ],
   "source": [
    "income_lookup_df.show(5)"
   ]
  },
  {
   "cell_type": "code",
   "execution_count": 141,
   "metadata": {},
   "outputs": [],
   "source": [
    "# write data to  Parquet format\n",
    "income_lookup_df.write.mode('overwrite').parquet(\"../formatted_zone/income_lookup.parquet\")"
   ]
  },
  {
   "cell_type": "code",
   "execution_count": 139,
   "metadata": {},
   "outputs": [
    {
     "name": "stderr",
     "output_type": "stream",
     "text": [
      "24/06/06 12:51:23 WARN DAGScheduler: Broadcasting large task binary with size 3.4 MiB\n",
      "24/06/06 12:51:26 WARN DAGScheduler: Broadcasting large task binary with size 1838.3 KiB\n",
      "                                                                                \r"
     ]
    }
   ],
   "source": [
    "# save to csv\n",
    "idealista.toPandas().to_csv('../test/idealista.csv', index=False)\n",
    "prices_df.toPandas().to_csv('../test/prices.csv', index=False)\n",
    "income.toPandas().to_csv('../test/income.csv', index=False)\n",
    "idealista_lookup_df.toPandas().to_csv('../test/idealista_lookup.csv', index=False)\n",
    "income_lookup_df.toPandas().to_csv('../test/income_lookup.csv', index=False)"
   ]
  }
 ],
 "metadata": {
  "kernelspec": {
   "display_name": "base",
   "language": "python",
   "name": "python3"
  },
  "language_info": {
   "codemirror_mode": {
    "name": "ipython",
    "version": 3
   },
   "file_extension": ".py",
   "mimetype": "text/x-python",
   "name": "python",
   "nbconvert_exporter": "python",
   "pygments_lexer": "ipython3",
   "version": "3.12.3"
  }
 },
 "nbformat": 4,
 "nbformat_minor": 2
}
