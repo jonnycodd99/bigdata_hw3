{
 "cells": [
  {
   "cell_type": "markdown",
   "metadata": {},
   "source": [
    "In this file the data is reshaped, aggregated, and merged. String variables are hot hot encoded."
   ]
  },
  {
   "cell_type": "code",
   "execution_count": 173,
   "metadata": {},
   "outputs": [],
   "source": [
    "import pandas as pd\n",
    "import glob\n",
    "import re\n",
    "\n",
    "from pyspark.sql import SparkSession\n",
    "from pyspark import  SparkConf\n",
    "from pyspark.sql.types import *\n",
    "from pyspark.sql import functions as F\n",
    "from pyspark.sql.functions import col\n",
    "from pyspark.sql.functions import lit\n",
    "from pyspark.sql.functions import to_date\n",
    "from pyspark.sql.functions import col, explode\n",
    "from pyspark.ml.feature import Imputer\n",
    "from pyspark.sql.functions import mean"
   ]
  },
  {
   "cell_type": "markdown",
   "metadata": {},
   "source": [
    "# Set up spark session"
   ]
  },
  {
   "cell_type": "code",
   "execution_count": 174,
   "metadata": {},
   "outputs": [],
   "source": [
    "appName = \"app\"\n",
    "master = \"local[*]\" # Spark will use all cores (*) available\n",
    "if not 'spark' in globals(): # This 'trick' makes sure the SparkContext sc is initialized exactly once\n",
    "  conf = SparkConf().setAppName(appName).setMaster(master)\n",
    "  spark = SparkSession.builder \\\n",
    "        .config(conf=conf) \\\n",
    "        .getOrCreate()"
   ]
  },
  {
   "cell_type": "code",
   "execution_count": 175,
   "metadata": {},
   "outputs": [
    {
     "data": {
      "text/html": [
       "\n",
       "            <div>\n",
       "                <p><b>SparkSession - in-memory</b></p>\n",
       "                \n",
       "        <div>\n",
       "            <p><b>SparkContext</b></p>\n",
       "\n",
       "            <p><a href=\"http://jonnys-macbook-air.home:4041\">Spark UI</a></p>\n",
       "\n",
       "            <dl>\n",
       "              <dt>Version</dt>\n",
       "                <dd><code>v3.5.1</code></dd>\n",
       "              <dt>Master</dt>\n",
       "                <dd><code>local[*]</code></dd>\n",
       "              <dt>AppName</dt>\n",
       "                <dd><code>app</code></dd>\n",
       "            </dl>\n",
       "        </div>\n",
       "        \n",
       "            </div>\n",
       "        "
      ],
      "text/plain": [
       "<pyspark.sql.session.SparkSession at 0x18c51f050>"
      ]
     },
     "execution_count": 175,
     "metadata": {},
     "output_type": "execute_result"
    }
   ],
   "source": [
    "#Display the information kept in the spark variable\n",
    "spark"
   ]
  },
  {
   "cell_type": "markdown",
   "metadata": {},
   "source": [
    "# Merge Price and Income"
   ]
  },
  {
   "cell_type": "code",
   "execution_count": 176,
   "metadata": {},
   "outputs": [
    {
     "name": "stdout",
     "output_type": "stream",
     "text": [
      "+---+-----------+-------------------+--------------------+------+---------+-----------+--------------+----+\n",
      "|_id|district_id|           district|        neighborhood|amount|per_meter|used_amount|used_per_meter|year|\n",
      "+---+-----------+-------------------+--------------------+------+---------+-----------+--------------+----+\n",
      "| 37|          7|     Horta-Guinardó|        la Teixonera| 106.6|   1812.9|      106.6|        1889.4|2016|\n",
      "| 70|         10|         Sant Martí|Provençals del Po...| 246.6|   3092.1|      283.4|        3558.6|2016|\n",
      "| 28|          6|             Gràcia|             el Coll| 169.7|   2283.5|      151.4|        2135.3|2016|\n",
      "| 65|         10|         Sant Martí|el Parc i la Llac...| 250.5|   3129.7|      229.4|        3089.1|2016|\n",
      "| 25|          5|Sarrià-Sant Gervasi|Sant Gervasi - Ga...| 582.0|   4416.5|      568.0|        4336.0|2016|\n",
      "+---+-----------+-------------------+--------------------+------+---------+-----------+--------------+----+\n",
      "only showing top 5 rows\n",
      "\n"
     ]
    }
   ],
   "source": [
    "# Load prices parquet\n",
    "prices = spark.read.parquet(\"../formatted_zone/prices.parquet\")\n",
    "prices.show(5)\n"
   ]
  },
  {
   "cell_type": "code",
   "execution_count": 177,
   "metadata": {},
   "outputs": [
    {
     "name": "stdout",
     "output_type": "stream",
     "text": [
      "+-----------+------------+----------+--------------------+--------+---------+----+\n",
      "|district_id|    district|codi_barri|        neighborhood|població|index_rfd|year|\n",
      "+-----------+------------+----------+--------------------+--------+---------+----+\n",
      "|          1|Ciutat Vella|         1|            el Raval|   49225|     60.3|2013|\n",
      "|          1|Ciutat Vella|         2|      el Barri Gòtic|   16327|    103.6|2013|\n",
      "|          1|Ciutat Vella|         3|      la Barceloneta|   15571|     82.1|2013|\n",
      "|          1|Ciutat Vella|         4|Sant Pere, Santa ...|   22821|     91.2|2013|\n",
      "|          2|    Eixample|         5|       el Fort Pienc|   31754|     99.0|2013|\n",
      "+-----------+------------+----------+--------------------+--------+---------+----+\n",
      "only showing top 5 rows\n",
      "\n"
     ]
    }
   ],
   "source": [
    "# Load the income parquet\n",
    "income = spark.read.parquet(\"../formatted_zone/income.parquet\")\n",
    "income.show(5)"
   ]
  },
  {
   "cell_type": "code",
   "execution_count": 178,
   "metadata": {},
   "outputs": [
    {
     "name": "stdout",
     "output_type": "stream",
     "text": [
      "+----+\n",
      "|year|\n",
      "+----+\n",
      "|2013|\n",
      "|2010|\n",
      "|2015|\n",
      "|2011|\n",
      "|2014|\n",
      "|2009|\n",
      "|2007|\n",
      "|2012|\n",
      "|2008|\n",
      "|2017|\n",
      "|2016|\n",
      "+----+\n",
      "\n"
     ]
    }
   ],
   "source": [
    "# check ranges of year columns\n",
    "income.select('year').distinct().show()"
   ]
  },
  {
   "cell_type": "code",
   "execution_count": 179,
   "metadata": {},
   "outputs": [
    {
     "name": "stdout",
     "output_type": "stream",
     "text": [
      "+----+\n",
      "|year|\n",
      "+----+\n",
      "|2016|\n",
      "|2017|\n",
      "|2015|\n",
      "|2013|\n",
      "|2014|\n",
      "+----+\n",
      "\n"
     ]
    }
   ],
   "source": [
    "prices.select('year').distinct().show()"
   ]
  },
  {
   "cell_type": "markdown",
   "metadata": {},
   "source": [
    "Year columns dont align. So as not to loose data, we create columns for each year in the income data"
   ]
  },
  {
   "cell_type": "code",
   "execution_count": 180,
   "metadata": {},
   "outputs": [
    {
     "name": "stdout",
     "output_type": "stream",
     "text": [
      "+-----------+--------------+------------------+------------------+------------------+------------------+------------------+------------------+------------------+------------------+------------------+------------------+------------------+------------------+------------------+------------------+------------------+------------------+------------------+------------------+------------------+------------------+-----------------+------------------+\n",
      "|district_id|      district|    2007_index_rfd|     2007_poblacio|    2008_index_rfd|     2008_poblacio|    2009_index_rfd|     2009_poblacio|    2010_index_rfd|     2010_poblacio|    2011_index_rfd|     2011_poblacio|    2012_index_rfd|     2012_poblacio|    2013_index_rfd|     2013_poblacio|    2014_index_rfd|     2014_poblacio|    2015_index_rfd|     2015_poblacio|    2016_index_rfd|     2016_poblacio|   2017_index_rfd|     2017_poblacio|\n",
      "+-----------+--------------+------------------+------------------+------------------+------------------+------------------+------------------+------------------+------------------+------------------+------------------+------------------+------------------+------------------+------------------+------------------+------------------+------------------+------------------+------------------+------------------+-----------------+------------------+\n",
      "|         10|    Sant Martí| 91.72000000000001|           22433.9|             91.97|           22642.9|             89.38|           23185.5|             86.67|           23230.3|             87.47|           23157.0|             86.52|           23345.6| 88.98000000000002|           23387.3|             94.09|           23448.9| 95.14999999999999|           23412.4| 95.26000000000002|           23429.2|             96.7|           23616.3|\n",
      "|          7|Horta-Guinardó| 87.45454545454545|15298.454545454546| 88.53636363636363|15493.363636363636| 85.76363636363637|15632.818181818182| 82.60000000000001|15540.363636363636|  79.7818181818182|15409.181818181818| 81.69090909090909|15319.545454545454| 79.85454545454546|15267.636363636364| 80.30909090909091|15203.181818181818|  83.3090909090909|15210.727272727272| 83.74545454545455|15233.727272727272|82.52727272727272|15380.636363636364|\n",
      "|          8|    Nou Barris|              65.5|12798.846153846154| 66.06153846153846|12879.461538461539|62.330769230769235|13073.923076923076| 58.52307692307693| 13001.23076923077| 56.37692307692308|12887.307692307691| 54.04615384615385|12858.538461538461| 52.23076923076924|12757.076923076924| 50.43076923076923|12747.538461538461|              50.0|12723.384615384615|              52.0|12690.076923076924|51.44615384615384|12831.153846153846|\n",
      "|          1|  Ciutat Vella| 74.52499999999999|           28258.5|            72.775|           27909.0|            77.375|          27461.75|            79.525|          26712.25|             80.75|           26012.0| 80.85000000000001|           26304.0|              84.3|           25986.0|             85.35|          25559.25| 89.32499999999999|          25056.75|            91.925|          25112.75|89.07499999999999|           25562.5|\n",
      "|          4|     Les Corts|150.63333333333333|27250.333333333332|152.06666666666666|27496.333333333332|151.76666666666668|           27756.0|155.13333333333333|           27737.0|161.16666666666666|27446.666666666668|159.86666666666665|27412.666666666668|162.46666666666667|27187.666666666668|163.23333333333332|27203.333333333332|161.63333333333333|27231.333333333332|158.86666666666667|           27236.0|            161.0|27400.333333333332|\n",
      "+-----------+--------------+------------------+------------------+------------------+------------------+------------------+------------------+------------------+------------------+------------------+------------------+------------------+------------------+------------------+------------------+------------------+------------------+------------------+------------------+------------------+------------------+-----------------+------------------+\n",
      "only showing top 5 rows\n",
      "\n"
     ]
    }
   ],
   "source": [
    "# Reshape wide, group \n",
    "wide_income = income.groupBy(\"district_id\", \"district\") \\\n",
    "    .pivot(\"year\") \\\n",
    "    .agg(\n",
    "        F.mean(\"index_rfd\").alias(\"index_rfd\"),  \n",
    "        F.mean(\"població\").alias(\"poblacio\")   \n",
    "    )\n",
    "wide_income.show(5)"
   ]
  },
  {
   "cell_type": "code",
   "execution_count": 181,
   "metadata": {},
   "outputs": [
    {
     "name": "stdout",
     "output_type": "stream",
     "text": [
      "+-----------+-------------------+------------------+-------------------+------------------+------------------+------------------+-------------------+------------------+------------------+------------------+-------------------+------------------+------------------+------------------+-------------------+------------------+------------------+------------------+-------------------+------------------+------------------+\n",
      "|district_id|           district|    2013_per_meter|2013_used_per_meter|       2013_amount|  2013_used_amount|    2014_per_meter|2014_used_per_meter|       2014_amount|  2014_used_amount|    2015_per_meter|2015_used_per_meter|       2015_amount|  2015_used_amount|    2016_per_meter|2016_used_per_meter|       2016_amount|  2016_used_amount|    2017_per_meter|2017_used_per_meter|       2017_amount|  2017_used_amount|\n",
      "+-----------+-------------------+------------------+-------------------+------------------+------------------+------------------+-------------------+------------------+------------------+------------------+-------------------+------------------+------------------+------------------+-------------------+------------------+------------------+------------------+-------------------+------------------+------------------+\n",
      "|          2|           Eixample| 2835.516666666667|             2618.8|            247.65|232.33333333333334|           3025.25| 2966.5833333333335|267.51666666666665|             266.5|3295.7000000000003| 3168.8666666666663|297.65000000000003|292.31666666666666|           3381.65|  3319.116666666667| 310.8833333333334| 308.3666666666667|4079.9500000000003|  3995.816666666667| 364.2833333333333| 357.6333333333334|\n",
      "|          8|         Nou Barris|1539.2615384615383| 1530.7076923076925|101.85384615384615|101.45384615384616|1561.6833333333334| 1565.2250000000001|111.15833333333332|111.33333333333333|1563.1583333333335| 1565.3333333333333|105.31666666666666|105.46666666666665|1577.8769230769233| 1577.2384615384617|110.45384615384616|110.56153846153846|1883.4846153846154|  1880.630769230769|126.84615384615383|126.87692307692306|\n",
      "|          9|        Sant Andreu| 2167.828571428571|             2152.4| 183.3857142857143|182.95714285714286|2018.8166666666668|  2030.716666666667|153.28333333333333|154.91666666666666|2237.0714285714284| 2243.0857142857144|177.85714285714283|178.58571428571426|2422.1428571428573| 2424.3428571428567|             188.9|188.94285714285712|2779.4714285714285|  2769.628571428571|219.29999999999998| 219.8857142857143|\n",
      "|          5|Sarrià-Sant Gervasi|3655.0833333333335|  3734.866666666667| 496.5333333333333| 514.4333333333333|3732.8333333333335|            3654.85|481.65000000000003|468.88333333333327| 3775.933333333333| 3780.0833333333335| 498.8333333333333|505.56666666666666| 4229.366666666668|  4182.366666666666| 542.4499999999999| 539.6833333333334| 4887.766666666667|  4922.650000000001| 601.0333333333334| 606.6500000000001|\n",
      "|          6|             Gràcia|           2647.28| 2604.4399999999996|            231.74|             223.3|           2617.02|            2575.06|            227.66|            221.94|2836.6800000000003|            2815.72|244.04000000000002|241.04000000000002|            3233.6|            3203.38|             282.5|            277.34|           3753.62| 3742.3199999999997|329.71999999999997|             327.6|\n",
      "+-----------+-------------------+------------------+-------------------+------------------+------------------+------------------+-------------------+------------------+------------------+------------------+-------------------+------------------+------------------+------------------+-------------------+------------------+------------------+------------------+-------------------+------------------+------------------+\n",
      "only showing top 5 rows\n",
      "\n"
     ]
    }
   ],
   "source": [
    "# Reshape wide\n",
    "wide_prices = prices.groupBy(\"district_id\", \"district\") \\\n",
    "    .pivot(\"year\") \\\n",
    "    .agg(\n",
    "        F.mean(\"per_meter\").alias(\"per_meter\"),\n",
    "        F.mean(\"used_per_meter\").alias(\"used_per_meter\"),\n",
    "        F.mean(\"amount\").alias(\"amount\"),\n",
    "        F.mean(\"used_amount\").alias(\"used_amount\")\n",
    "    )\n",
    "wide_prices.show(5)"
   ]
  },
  {
   "cell_type": "code",
   "execution_count": 182,
   "metadata": {},
   "outputs": [
    {
     "name": "stdout",
     "output_type": "stream",
     "text": [
      "+-----------+--------------+------------------+-------------------+------------------+------------------+------------------+-------------------+------------------+------------------+------------------+-------------------+------------------+------------------+------------------+-------------------+------------------+------------------+------------------+-------------------+------------------+------------------+-----------+--------------+------------------+------------------+------------------+------------------+------------------+------------------+------------------+------------------+------------------+------------------+------------------+------------------+------------------+------------------+------------------+------------------+------------------+------------------+------------------+------------------+-----------------+------------------+\n",
      "|district_id|      district|    2013_per_meter|2013_used_per_meter|       2013_amount|  2013_used_amount|    2014_per_meter|2014_used_per_meter|       2014_amount|  2014_used_amount|    2015_per_meter|2015_used_per_meter|       2015_amount|  2015_used_amount|    2016_per_meter|2016_used_per_meter|       2016_amount|  2016_used_amount|    2017_per_meter|2017_used_per_meter|       2017_amount|  2017_used_amount|district_id|      district|    2007_index_rfd|     2007_poblacio|    2008_index_rfd|     2008_poblacio|    2009_index_rfd|     2009_poblacio|    2010_index_rfd|     2010_poblacio|    2011_index_rfd|     2011_poblacio|    2012_index_rfd|     2012_poblacio|    2013_index_rfd|     2013_poblacio|    2014_index_rfd|     2014_poblacio|    2015_index_rfd|     2015_poblacio|    2016_index_rfd|     2016_poblacio|   2017_index_rfd|     2017_poblacio|\n",
      "+-----------+--------------+------------------+-------------------+------------------+------------------+------------------+-------------------+------------------+------------------+------------------+-------------------+------------------+------------------+------------------+-------------------+------------------+------------------+------------------+-------------------+------------------+------------------+-----------+--------------+------------------+------------------+------------------+------------------+------------------+------------------+------------------+------------------+------------------+------------------+------------------+------------------+------------------+------------------+------------------+------------------+------------------+------------------+------------------+------------------+-----------------+------------------+\n",
      "|         10|    Sant Martí|           2857.09|             2848.2|241.65999999999994|            242.66|           3090.34|            3172.15|             276.7|286.96999999999997|3367.1799999999994|            3346.35|            292.36|289.96999999999997|           3393.69|            3361.21|            293.43|            289.45|3991.3900000000003| 4041.0399999999995|345.02000000000004|346.81000000000006|         10|    Sant Martí| 91.72000000000001|           22433.9|             91.97|           22642.9|             89.38|           23185.5|             86.67|           23230.3|             87.47|           23157.0|             86.52|           23345.6| 88.98000000000002|           23387.3|             94.09|           23448.9| 95.14999999999999|           23412.4| 95.26000000000002|           23429.2|             96.7|           23616.3|\n",
      "|          7|Horta-Guinardó|2088.1545454545453|  2202.375655716832|153.13636363636363|167.22495543672017|1945.3272727272727|             2000.5|144.20909090909092|148.02727272727273|2171.8999999999996| 2169.3818181818183| 156.2181818181818|157.89090909090908|2128.4545454545455|   2299.94838298956|168.13636363636363|172.08859180035654|           2697.81| 2694.4700000000003|196.35999999999999|            195.07|          7|Horta-Guinardó| 87.45454545454545|15298.454545454546| 88.53636363636363|15493.363636363636| 85.76363636363637|15632.818181818182| 82.60000000000001|15540.363636363636|  79.7818181818182|15409.181818181818| 81.69090909090909|15319.545454545454| 79.85454545454546|15267.636363636364| 80.30909090909091|15203.181818181818|  83.3090909090909|15210.727272727272| 83.74545454545455|15233.727272727272|82.52727272727272|15380.636363636364|\n",
      "|          8|    Nou Barris|1539.2615384615383| 1530.7076923076925|101.85384615384615|101.45384615384616|1561.6833333333334| 1565.2250000000001|111.15833333333332|111.33333333333333|1563.1583333333335| 1565.3333333333333|105.31666666666666|105.46666666666665|1577.8769230769233| 1577.2384615384617|110.45384615384616|110.56153846153846|1883.4846153846154|  1880.630769230769|126.84615384615383|126.87692307692306|          8|    Nou Barris|              65.5|12798.846153846154| 66.06153846153846|12879.461538461539|62.330769230769235|13073.923076923076| 58.52307692307693| 13001.23076923077| 56.37692307692308|12887.307692307691| 54.04615384615385|12858.538461538461| 52.23076923076924|12757.076923076924| 50.43076923076923|12747.538461538461|              50.0|12723.384615384615|              52.0|12690.076923076924|51.44615384615384|12831.153846153846|\n",
      "|          1|  Ciutat Vella|          2624.375| 2379.7250000000004|           168.825|            147.75|            2821.0|            2724.75|194.64999999999998|             190.8|          3137.275|             3147.9|244.77499999999998|             244.5|           3688.25|            3590.25|           277.275|           270.275|          4282.625|            4242.25|            306.25|            293.15|          1|  Ciutat Vella| 74.52499999999999|           28258.5|            72.775|           27909.0|            77.375|          27461.75|            79.525|          26712.25|             80.75|           26012.0| 80.85000000000001|           26304.0|              84.3|           25986.0|             85.35|          25559.25| 89.32499999999999|          25056.75|            91.925|          25112.75|89.07499999999999|           25562.5|\n",
      "|          4|     Les Corts|            3407.0| 3341.1999999999994|             417.7|             396.7|3750.0333333333333| 3694.8666666666663|             454.5| 448.6333333333334|3902.7666666666664| 3701.2333333333336|459.26666666666665|435.90000000000003| 3816.866666666667| 3758.2333333333336| 420.3333333333333| 412.3666666666666| 4682.133333333334|             4474.7| 559.0666666666666|             540.4|          4|     Les Corts|150.63333333333333|27250.333333333332|152.06666666666666|27496.333333333332|151.76666666666668|           27756.0|155.13333333333333|           27737.0|161.16666666666666|27446.666666666668|159.86666666666665|27412.666666666668|162.46666666666667|27187.666666666668|163.23333333333332|27203.333333333332|161.63333333333333|27231.333333333332|158.86666666666667|           27236.0|            161.0|27400.333333333332|\n",
      "+-----------+--------------+------------------+-------------------+------------------+------------------+------------------+-------------------+------------------+------------------+------------------+-------------------+------------------+------------------+------------------+-------------------+------------------+------------------+------------------+-------------------+------------------+------------------+-----------+--------------+------------------+------------------+------------------+------------------+------------------+------------------+------------------+------------------+------------------+------------------+------------------+------------------+------------------+------------------+------------------+------------------+------------------+------------------+------------------+------------------+-----------------+------------------+\n",
      "only showing top 5 rows\n",
      "\n"
     ]
    }
   ],
   "source": [
    "# Merge on distric\n",
    "prices_income_wide = wide_prices.join(wide_income, wide_prices.district == wide_income.district)\n",
    "prices_income_wide.show(5)\n",
    "\n",
    "# drop duplicated columns\n",
    "selected_columns = [wide_prices.district] + \\\n",
    "                   [wide_prices.district_id] + \\\n",
    "                   [col for col in wide_prices.columns if col != 'district' and col != 'district_id']  + \\\n",
    "                   [col for col in wide_income.columns if col != 'district' and col != 'district_id']\n",
    "\n",
    "prices_income_wide = prices_income_wide.select(selected_columns)"
   ]
  },
  {
   "cell_type": "code",
   "execution_count": 183,
   "metadata": {},
   "outputs": [
    {
     "name": "stdout",
     "output_type": "stream",
     "text": [
      "root\n",
      " |-- district: string (nullable = true)\n",
      " |-- district_id: long (nullable = true)\n",
      " |-- 2013_per_meter: double (nullable = true)\n",
      " |-- 2013_used_per_meter: double (nullable = true)\n",
      " |-- 2013_amount: double (nullable = true)\n",
      " |-- 2013_used_amount: double (nullable = true)\n",
      " |-- 2014_per_meter: double (nullable = true)\n",
      " |-- 2014_used_per_meter: double (nullable = true)\n",
      " |-- 2014_amount: double (nullable = true)\n",
      " |-- 2014_used_amount: double (nullable = true)\n",
      " |-- 2015_per_meter: double (nullable = true)\n",
      " |-- 2015_used_per_meter: double (nullable = true)\n",
      " |-- 2015_amount: double (nullable = true)\n",
      " |-- 2015_used_amount: double (nullable = true)\n",
      " |-- 2016_per_meter: double (nullable = true)\n",
      " |-- 2016_used_per_meter: double (nullable = true)\n",
      " |-- 2016_amount: double (nullable = true)\n",
      " |-- 2016_used_amount: double (nullable = true)\n",
      " |-- 2017_per_meter: double (nullable = true)\n",
      " |-- 2017_used_per_meter: double (nullable = true)\n",
      " |-- 2017_amount: double (nullable = true)\n",
      " |-- 2017_used_amount: double (nullable = true)\n",
      " |-- 2007_index_rfd: double (nullable = true)\n",
      " |-- 2007_poblacio: double (nullable = true)\n",
      " |-- 2008_index_rfd: double (nullable = true)\n",
      " |-- 2008_poblacio: double (nullable = true)\n",
      " |-- 2009_index_rfd: double (nullable = true)\n",
      " |-- 2009_poblacio: double (nullable = true)\n",
      " |-- 2010_index_rfd: double (nullable = true)\n",
      " |-- 2010_poblacio: double (nullable = true)\n",
      " |-- 2011_index_rfd: double (nullable = true)\n",
      " |-- 2011_poblacio: double (nullable = true)\n",
      " |-- 2012_index_rfd: double (nullable = true)\n",
      " |-- 2012_poblacio: double (nullable = true)\n",
      " |-- 2013_index_rfd: double (nullable = true)\n",
      " |-- 2013_poblacio: double (nullable = true)\n",
      " |-- 2014_index_rfd: double (nullable = true)\n",
      " |-- 2014_poblacio: double (nullable = true)\n",
      " |-- 2015_index_rfd: double (nullable = true)\n",
      " |-- 2015_poblacio: double (nullable = true)\n",
      " |-- 2016_index_rfd: double (nullable = true)\n",
      " |-- 2016_poblacio: double (nullable = true)\n",
      " |-- 2017_index_rfd: double (nullable = true)\n",
      " |-- 2017_poblacio: double (nullable = true)\n",
      "\n"
     ]
    }
   ],
   "source": [
    "prices_income_wide.printSchema()"
   ]
  },
  {
   "cell_type": "markdown",
   "metadata": {},
   "source": [
    "# Merge with idealista"
   ]
  },
  {
   "cell_type": "code",
   "execution_count": 184,
   "metadata": {},
   "outputs": [
    {
     "name": "stdout",
     "output_type": "stream",
     "text": [
      "+--------------------+---------+-------+--------+-----------+--------+-----+------+---------+-------+-------+----------+--------+----------+---------+------------+--------------------+--------------+---------+---------+--------+-----------+------------+------------+---------+-----+-----------+-----+-----------------+----------+---------------+-----------------------------+-----------------+--------+----+\n",
      "|             address|bathrooms|country|distance|   district|exterior|floor|has360|has3dtour|haslift|hasplan|hasstaging|hasvideo|  latitude|longitude|municipality|        neighborhood|newdevelopment|numphotos|operation|   price|pricebyarea|propertycode|propertytype| province|rooms|showaddress| size|topnewdevelopment|      date|hasparkingspace|isparkingspaceincludedinprice|parkingspaceprice|typology|year|\n",
      "+--------------------+---------+-------+--------+-----------+--------+-----+------+---------+-------+-------+----------+--------+----------+---------+------------+--------------------+--------------+---------+---------+--------+-----------+------------+------------+---------+-----+-----------+-----+-----------------+----------+---------------+-----------------------------+-----------------+--------+----+\n",
      "|              Verdun|        1|     es|  2137.0| Nou Barris|   false|    2| false|    false|   true|  false|     false|    true|41.4420536|2.1758135|   Barcelona|              Verdun|         false|       19|     sale|145000.0|     2417.0|    91776376|        flat|Barcelona|    3|      false| 60.0|            false|2020-08-06|          false|                        false|              0.0|    flat|2020|\n",
      "|            Foradada|        2|     es|  2844.0|Sant Andreu|    true|    2|  true|    false|  false|   true|     false|   false|41.4495664|2.1914827|   Barcelona|   La Trinitat Vella|         false|       28|     sale|215000.0|     2087.0|    91944091|        flat|Barcelona|    4|      false|103.0|            false|2020-08-06|           true|                         true|              0.0|    flat|2020|\n",
      "|                Molí|        1|     es|  2295.0| Nou Barris|    true|    2| false|    false|  false|   true|     false|   false| 41.442935|2.1795681|   Barcelona|      La Prosperitat|         false|       24|     sale|166000.0|     2635.0|    93199277|        flat|Barcelona|    3|      false| 63.0|            false|2020-08-06|          false|                        false|              0.0|    flat|2020|\n",
      "|                Molí|        1|     es|  2490.0| Nou Barris|    true|    2| false|    false|  false|  false|     false|   false|41.4416512|2.1811924|   Barcelona|      La Prosperitat|         false|       24|     sale|166000.0|     2635.0|    92940249|        flat|Barcelona|    3|      false| 63.0|            false|2020-08-06|          false|                        false|              0.0|    flat|2020|\n",
      "|Calle de Sant Isc...|        1|     es|  3030.0| Nou Barris|    true|    5|  true|    false|   true|   true|     false|    true|41.4314065|2.1734677|   Barcelona|Can Peguera - El ...|         false|       27|     sale|260000.0|     2889.0|    92129103|        flat|Barcelona|    4|       true| 90.0|            false|2020-08-06|          false|                        false|              0.0|    flat|2020|\n",
      "+--------------------+---------+-------+--------+-----------+--------+-----+------+---------+-------+-------+----------+--------+----------+---------+------------+--------------------+--------------+---------+---------+--------+-----------+------------+------------+---------+-----+-----------+-----+-----------------+----------+---------------+-----------------------------+-----------------+--------+----+\n",
      "only showing top 5 rows\n",
      "\n"
     ]
    }
   ],
   "source": [
    "idealista = spark.read.parquet(\"../formatted_zone/idealista.parquet\")\n",
    "idealista.show(5)\n"
   ]
  },
  {
   "cell_type": "code",
   "execution_count": 185,
   "metadata": {},
   "outputs": [
    {
     "name": "stdout",
     "output_type": "stream",
     "text": [
      "+----------+--------------------+---------+-------+--------+--------+-----+------+---------+-------+-------+----------+--------+----------+---------+------------+--------------------+--------------+---------+---------+--------+-----------+------------+------------+---------+-----+-----------+-----+-----------------+----------+---------------+-----------------------------+-----------------+--------+----+\n",
      "|  district|             address|bathrooms|country|distance|exterior|floor|has360|has3dtour|haslift|hasplan|hasstaging|hasvideo|  latitude|longitude|municipality|        neighborhood|newdevelopment|numphotos|operation|   price|pricebyarea|propertycode|propertytype| province|rooms|showaddress| size|topnewdevelopment|      date|hasparkingspace|isparkingspaceincludedinprice|parkingspaceprice|typology|year|\n",
      "+----------+--------------------+---------+-------+--------+--------+-----+------+---------+-------+-------+----------+--------+----------+---------+------------+--------------------+--------------+---------+---------+--------+-----------+------------+------------+---------+-----+-----------+-----+-----------------+----------+---------------+-----------------------------+-----------------+--------+----+\n",
      "|Sant Martí|barrio El Camp de...|        1|     es|  3137.0|    true|    7| false|    false|   true|   true|     false|   false|41.4126507|2.1788903|   Barcelona|El Camp de l'Arpa...|         false|       24|     sale|320000.0|     3636.0|    88750888|        flat|Barcelona|    3|      false| 88.0|            false|2020-09-12|          false|                        false|              0.0|    flat|2020|\n",
      "|Nou Barris|   Calle de Perafita|        1|     es|  2941.0|    true|    5| false|    false|  false|   true|     false|   false|41.4581612|2.1672375|   Barcelona|Ciutat Meridiana ...|         false|       25|     sale|115000.0|     1797.0|    92912725|        flat|Barcelona|    3|      false| 64.0|            false|2020-02-16|           true|                         true|              0.0|    flat|2020|\n",
      "|Nou Barris|        barrio Porta|        1|     es|  1589.0|    true|    3| false|    false|   true|   true|     false|   false|41.4336264|2.1772405|   Barcelona|               Porta|         false|       25|     sale|190000.0|     3220.0|    84655700|        flat|Barcelona|    3|      false| 59.0|            false|2020-09-12|          false|                        false|              0.0|    flat|2020|\n",
      "|Nou Barris|barrio Vilapicina...|        2|     es|  3186.0|   false|    5| false|    false|   true|   true|     false|   false| 41.428547|2.1682547|   Barcelona|Vilapicina i la T...|         false|       28|     sale|440000.0|     3520.0|    87734205|   penthouse|Barcelona|    3|      false|125.0|            false|2020-08-06|          false|                        false|              0.0|    flat|2020|\n",
      "|Nou Barris|       barrio Verdun|        1|     es|  2110.0|    true|    3| false|    false|  false|  false|     false|    true|41.4415491|2.1745457|   Barcelona|              Verdun|         false|       27|     sale|135000.0|     2045.0|    92888429|        flat|Barcelona|    3|      false| 66.0|            false|2020-08-06|          false|                        false|              0.0|    flat|2020|\n",
      "+----------+--------------------+---------+-------+--------+--------+-----+------+---------+-------+-------+----------+--------+----------+---------+------------+--------------------+--------------+---------+---------+--------+-----------+------------+------------+---------+-----+-----------+-----+-----------------+----------+---------------+-----------------------------+-----------------+--------+----+\n",
      "only showing top 5 rows\n",
      "\n"
     ]
    }
   ],
   "source": [
    "# Merge \n",
    "prices_income_idealista = idealista.join(prices_income_wide, prices_income_wide.district == idealista.district)\n",
    "# Keep only one district column\n",
    "selected_columns = [prices_income_wide.district] + \\\n",
    "                   [col for col in idealista.columns if col != 'district'] \n",
    "\n",
    "prices_income_idealista = prices_income_idealista.select(selected_columns)\n",
    "\n",
    "prices_income_idealista.show(5)\n"
   ]
  },
  {
   "cell_type": "code",
   "execution_count": 186,
   "metadata": {},
   "outputs": [
    {
     "data": {
      "text/plain": [
       "12267"
      ]
     },
     "execution_count": 186,
     "metadata": {},
     "output_type": "execute_result"
    }
   ],
   "source": [
    "# count the rows to check all merged\n",
    "idealista.count()"
   ]
  },
  {
   "cell_type": "code",
   "execution_count": 187,
   "metadata": {},
   "outputs": [],
   "source": [
    "# One hot encode columns\n",
    "from pyspark.ml.feature import StringIndexer\n",
    "from pyspark.ml.feature import OneHotEncoder\n",
    "from pyspark.ml import Pipeline\n",
    "\n",
    "def one_hot_encode(df, input_col):\n",
    "    # Create a StringIndexer to convert string values to numeric indices\n",
    "    indexer = StringIndexer(inputCol=input_col, outputCol=input_col + \"_index\")\n",
    "    # Create a OneHotEncoder to convert numeric indices to one-hot encoded vectors\n",
    "    encoder = OneHotEncoder(inputCols=[input_col + \"_index\"], outputCols=[input_col + \"_enc\"])\n",
    "    \n",
    "    # Set up the Pipeline with both stages: indexing and encoding\n",
    "    pipeline = Pipeline(stages=[indexer, encoder])\n",
    "    \n",
    "    # Fit the pipeline to the data and then transform the data\n",
    "    model = pipeline.fit(df)\n",
    "    encoded = model.transform(df)\n",
    "    \n",
    "    # Optionally drop the original input column if no longer needed\n",
    "    encoded = encoded.drop(input_col)\n",
    "    encoded = encoded.drop(input_col + \"_index\")\n",
    "    \n",
    "    return encoded"
   ]
  },
  {
   "cell_type": "code",
   "execution_count": 188,
   "metadata": {},
   "outputs": [
    {
     "name": "stdout",
     "output_type": "stream",
     "text": [
      "+--------------------+---------+-------+--------+--------+-----+------+---------+-------+-------+----------+--------+----------+---------+------------+--------------+---------+---------+--------+-----------+------------+---------+-----+-----------+-----+-----------------+----------+---------------+-----------------------------+-----------------+----+-------------+----------------+----------------+-------------+\n",
      "|             address|bathrooms|country|distance|exterior|floor|has360|has3dtour|haslift|hasplan|hasstaging|hasvideo|  latitude|longitude|municipality|newdevelopment|numphotos|operation|   price|pricebyarea|propertycode| province|rooms|showaddress| size|topnewdevelopment|      date|hasparkingspace|isparkingspaceincludedinprice|parkingspaceprice|year| district_enc|neighborhood_enc|propertytype_enc| typology_enc|\n",
      "+--------------------+---------+-------+--------+--------+-----+------+---------+-------+-------+----------+--------+----------+---------+------------+--------------+---------+---------+--------+-----------+------------+---------+-----+-----------+-----+-----------------+----------+---------------+-----------------------------+-----------------+----+-------------+----------------+----------------+-------------+\n",
      "|barrio El Camp de...|        1|     es|  3137.0|    true|    7| false|    false|   true|   true|     false|   false|41.4126507|2.1788903|   Barcelona|         false|       24|     sale|320000.0|     3636.0|    88750888|Barcelona|    3|      false| 88.0|            false|2020-09-12|          false|                        false|              0.0|2020|    (8,[],[])| (44,[41],[1.0])|   (5,[0],[1.0])|(2,[0],[1.0])|\n",
      "|   Calle de Perafita|        1|     es|  2941.0|    true|    5| false|    false|  false|   true|     false|   false|41.4581612|2.1672375|   Barcelona|         false|       25|     sale|115000.0|     1797.0|    92912725|Barcelona|    3|      false| 64.0|            false|2020-02-16|           true|                         true|              0.0|2020|(8,[6],[1.0])| (44,[33],[1.0])|   (5,[0],[1.0])|(2,[0],[1.0])|\n",
      "|        barrio Porta|        1|     es|  1589.0|    true|    3| false|    false|   true|   true|     false|   false|41.4336264|2.1772405|   Barcelona|         false|       25|     sale|190000.0|     3220.0|    84655700|Barcelona|    3|      false| 59.0|            false|2020-09-12|          false|                        false|              0.0|2020|(8,[6],[1.0])| (44,[26],[1.0])|   (5,[0],[1.0])|(2,[0],[1.0])|\n",
      "|barrio Vilapicina...|        2|     es|  3186.0|   false|    5| false|    false|   true|   true|     false|   false| 41.428547|2.1682547|   Barcelona|         false|       28|     sale|440000.0|     3520.0|    87734205|Barcelona|    3|      false|125.0|            false|2020-08-06|          false|                        false|              0.0|2020|(8,[6],[1.0])| (44,[36],[1.0])|   (5,[2],[1.0])|(2,[0],[1.0])|\n",
      "|       barrio Verdun|        1|     es|  2110.0|    true|    3| false|    false|  false|  false|     false|    true|41.4415491|2.1745457|   Barcelona|         false|       27|     sale|135000.0|     2045.0|    92888429|Barcelona|    3|      false| 66.0|            false|2020-08-06|          false|                        false|              0.0|2020|(8,[6],[1.0])| (44,[35],[1.0])|   (5,[0],[1.0])|(2,[0],[1.0])|\n",
      "+--------------------+---------+-------+--------+--------+-----+------+---------+-------+-------+----------+--------+----------+---------+------------+--------------+---------+---------+--------+-----------+------------+---------+-----+-----------+-----+-----------------+----------+---------------+-----------------------------+-----------------+----+-------------+----------------+----------------+-------------+\n",
      "only showing top 5 rows\n",
      "\n"
     ]
    }
   ],
   "source": [
    "prices_income_idealista = one_hot_encode(prices_income_idealista, \"district\")\n",
    "prices_income_idealista = one_hot_encode(prices_income_idealista, \"neighborhood\")\n",
    "prices_income_idealista = one_hot_encode(prices_income_idealista, \"propertytype\")\n",
    "prices_income_idealista = one_hot_encode(prices_income_idealista, \"typology\")\n",
    "prices_income_idealista.show(5)"
   ]
  },
  {
   "cell_type": "code",
   "execution_count": 189,
   "metadata": {},
   "outputs": [],
   "source": [
    "# Generate index column \n",
    "prices_income_idealista = prices_income_idealista.withColumn(\"index\", F.monotonically_increasing_id())\n",
    "\n",
    "# Drop columsn string columns that wont be used in analysis\n",
    "prices_income_idealista = prices_income_idealista.drop('address', 'country', 'district', 'municipality', 'province', 'operation', 'date')"
   ]
  },
  {
   "cell_type": "code",
   "execution_count": 190,
   "metadata": {},
   "outputs": [
    {
     "name": "stdout",
     "output_type": "stream",
     "text": [
      "root\n",
      " |-- bathrooms: integer (nullable = true)\n",
      " |-- distance: double (nullable = true)\n",
      " |-- exterior: boolean (nullable = true)\n",
      " |-- floor: integer (nullable = true)\n",
      " |-- has360: boolean (nullable = true)\n",
      " |-- has3dtour: boolean (nullable = true)\n",
      " |-- haslift: boolean (nullable = true)\n",
      " |-- hasplan: boolean (nullable = true)\n",
      " |-- hasstaging: boolean (nullable = true)\n",
      " |-- hasvideo: boolean (nullable = true)\n",
      " |-- latitude: double (nullable = true)\n",
      " |-- longitude: double (nullable = true)\n",
      " |-- newdevelopment: boolean (nullable = true)\n",
      " |-- numphotos: long (nullable = true)\n",
      " |-- price: double (nullable = true)\n",
      " |-- pricebyarea: double (nullable = true)\n",
      " |-- propertycode: string (nullable = true)\n",
      " |-- rooms: integer (nullable = true)\n",
      " |-- showaddress: boolean (nullable = true)\n",
      " |-- size: double (nullable = true)\n",
      " |-- topnewdevelopment: boolean (nullable = true)\n",
      " |-- date: date (nullable = true)\n",
      " |-- hasparkingspace: boolean (nullable = true)\n",
      " |-- isparkingspaceincludedinprice: boolean (nullable = true)\n",
      " |-- parkingspaceprice: double (nullable = true)\n",
      " |-- year: integer (nullable = true)\n",
      " |-- district_enc: vector (nullable = true)\n",
      " |-- neighborhood_enc: vector (nullable = true)\n",
      " |-- propertytype_enc: vector (nullable = true)\n",
      " |-- typology_enc: vector (nullable = true)\n",
      " |-- index: long (nullable = false)\n",
      "\n"
     ]
    }
   ],
   "source": [
    "prices_income_idealista.printSchema()"
   ]
  },
  {
   "cell_type": "code",
   "execution_count": 191,
   "metadata": {},
   "outputs": [],
   "source": [
    "# Save to exploitation zone\n",
    "prices_income_idealista.write.mode('overwrite').parquet(\"../exploitation_zone/idealista.parquet\")"
   ]
  },
  {
   "cell_type": "markdown",
   "metadata": {},
   "source": [
    "# Check inegrity"
   ]
  },
  {
   "cell_type": "code",
   "execution_count": 195,
   "metadata": {},
   "outputs": [],
   "source": [
    "from pyspark.sql.functions import col, count, isnan, when, avg, min, max, stddev, corr"
   ]
  },
  {
   "cell_type": "markdown",
   "metadata": {},
   "source": [
    "## Check for missing values in columns"
   ]
  },
  {
   "cell_type": "code",
   "execution_count": 199,
   "metadata": {},
   "outputs": [
    {
     "name": "stdout",
     "output_type": "stream",
     "text": [
      "Missing count for price: 0\n",
      "Missing count for size: 0\n",
      "Missing count for rooms: 0\n",
      "Missing count for bathrooms: 0\n",
      "Missing count for latitude: 0\n",
      "Missing count for longitude: 0\n"
     ]
    }
   ],
   "source": [
    "for column in ['price', 'size', 'rooms', 'bathrooms', 'latitude', 'longitude']:\n",
    "    missing_count = prices_income_idealista.filter((col(column).isNull()) | (col(column) == '')).count()\n",
    "    print(f\"Missing count for {column}: {missing_count}\")\n"
   ]
  },
  {
   "cell_type": "markdown",
   "metadata": {},
   "source": [
    "## Check for duplicates"
   ]
  },
  {
   "cell_type": "code",
   "execution_count": 201,
   "metadata": {},
   "outputs": [
    {
     "name": "stdout",
     "output_type": "stream",
     "text": [
      "+---------+--------+--------+-----+------+---------+-------+-------+----------+--------+--------+---------+--------------+---------+-----+-----------+------------+-----+-----------+----+-----------------+----+---------------+-----------------------------+-----------------+----+------------+----------------+----------------+------------+-----+-----+\n",
      "|bathrooms|distance|exterior|floor|has360|has3dtour|haslift|hasplan|hasstaging|hasvideo|latitude|longitude|newdevelopment|numphotos|price|pricebyarea|propertycode|rooms|showaddress|size|topnewdevelopment|date|hasparkingspace|isparkingspaceincludedinprice|parkingspaceprice|year|district_enc|neighborhood_enc|propertytype_enc|typology_enc|index|count|\n",
      "+---------+--------+--------+-----+------+---------+-------+-------+----------+--------+--------+---------+--------------+---------+-----+-----------+------------+-----+-----------+----+-----------------+----+---------------+-----------------------------+-----------------+----+------------+----------------+----------------+------------+-----+-----+\n",
      "+---------+--------+--------+-----+------+---------+-------+-------+----------+--------+--------+---------+--------------+---------+-----+-----------+------------+-----+-----------+----+-----------------+----+---------------+-----------------------------+-----------------+----+------------+----------------+----------------+------------+-----+-----+\n",
      "\n"
     ]
    }
   ],
   "source": [
    "prices_income_idealista.groupBy(prices_income_idealista.columns).count().filter(\"count > 1\").show()\n"
   ]
  },
  {
   "cell_type": "markdown",
   "metadata": {},
   "source": [
    "# Output summary statistics"
   ]
  },
  {
   "cell_type": "code",
   "execution_count": 203,
   "metadata": {},
   "outputs": [
    {
     "name": "stdout",
     "output_type": "stream",
     "text": [
      "+-------+------------------+------------------+-----------------+-------------------+--------------------+------------------+-----------------+------------------+-------------------+------------------+------------------+------------------+-------------------+------------------+\n",
      "|summary|         bathrooms|          distance|            floor|           latitude|           longitude|         numphotos|            price|       pricebyarea|       propertycode|             rooms|              size| parkingspaceprice|               year|             index|\n",
      "+-------+------------------+------------------+-----------------+-------------------+--------------------+------------------+-----------------+------------------+-------------------+------------------+------------------+------------------+-------------------+------------------+\n",
      "|  count|              6621|              6621|             6621|               6621|                6621|              6621|             6621|              6621|               6621|              6621|              6621|              6621|               6621|              6621|\n",
      "|   mean| 2.035493127926295|1435.2461863766803|2.655641141821477|  41.38645945142729|  2.1396544954085557|27.199818758495695|690528.6808639178| 4615.892916477874|8.999054886739163E7|3.3334843679202537|140.07681619090772| 605.1095000755173| 2020.0765745355686|            3310.0|\n",
      "| stddev|1.1951980403810558| 1047.985941961665|2.290557980391173|0.01658085919485205|0.015059000453585715|11.357674646733123|790223.7422420707|1792.0576823921754|  8302106.987754413|1.3911495450676787| 117.1335834691616|3824.4715695565487|0.26593525052590045|1911.4623982699738|\n",
      "|    min|                 0|               4.0|               -1|         41.3505397|           2.0812704|                 0|          34000.0|             488.0|            1394150|                 0|              10.0|               0.0|               2020|                 0|\n",
      "|    max|                 9|            3245.0|               43|         41.4642098|           2.1949138|               107|            1.2E7|           17143.0|           93215144|                15|            1800.0|           38000.0|               2021|              6620|\n",
      "+-------+------------------+------------------+-----------------+-------------------+--------------------+------------------+-----------------+------------------+-------------------+------------------+------------------+------------------+-------------------+------------------+\n",
      "\n"
     ]
    }
   ],
   "source": [
    "prices_income_idealista.describe().show()\n"
   ]
  },
  {
   "cell_type": "markdown",
   "metadata": {},
   "source": [
    "## Correlation between price and size"
   ]
  },
  {
   "cell_type": "code",
   "execution_count": 204,
   "metadata": {},
   "outputs": [
    {
     "name": "stdout",
     "output_type": "stream",
     "text": [
      "0.8643497235900238\n"
     ]
    }
   ],
   "source": [
    "print(prices_income_idealista.stat.corr('price', 'size'))\n"
   ]
  },
  {
   "cell_type": "markdown",
   "metadata": {},
   "source": [
    "## Distribution of price by room count"
   ]
  },
  {
   "cell_type": "code",
   "execution_count": 205,
   "metadata": {},
   "outputs": [
    {
     "name": "stdout",
     "output_type": "stream",
     "text": [
      "+-----+------------------+---------+---------+\n",
      "|rooms|         avg_price|min_price|max_price|\n",
      "+-----+------------------+---------+---------+\n",
      "|    0|265666.12903225806|  34000.0|1600000.0|\n",
      "|    1|298887.50741839764|  39000.0|3750000.0|\n",
      "|    2| 391471.4365957447|  89000.0|2750000.0|\n",
      "|    3| 513620.8333333333|  48000.0|2800000.0|\n",
      "|    4| 629133.9960291198|  39000.0|    1.2E7|\n",
      "|    5|1284932.2766570605| 169000.0|8000000.0|\n",
      "|   15|         1350000.0|1350000.0|1350000.0|\n",
      "|    6|1948355.1401869159| 419000.0|6800000.0|\n",
      "|    8|         2505000.0| 880000.0|4950000.0|\n",
      "|   13|         3730000.0|3730000.0|3730000.0|\n",
      "|   12|         3750000.0|3750000.0|3750000.0|\n",
      "|    7|3788253.9682539683| 820000.0|    1.0E7|\n",
      "|    9|         3806000.0|3600000.0|3900000.0|\n",
      "|   10|         3918750.0|1950000.0|4600000.0|\n",
      "|   11| 5109090.909090909|3800000.0|5600000.0|\n",
      "+-----+------------------+---------+---------+\n",
      "\n"
     ]
    }
   ],
   "source": [
    "prices_income_idealista.groupBy('rooms').agg(avg('price').alias('avg_price'), min('price').alias('min_price'), max('price').alias('max_price')).orderBy('avg_price').show()\n"
   ]
  },
  {
   "cell_type": "markdown",
   "metadata": {},
   "source": [
    "## Check for trends by geograph and time"
   ]
  },
  {
   "cell_type": "code",
   "execution_count": 206,
   "metadata": {},
   "outputs": [
    {
     "name": "stdout",
     "output_type": "stream",
     "text": [
      "+----------+---------+---------+\n",
      "|  latitude|longitude|avg_price|\n",
      "+----------+---------+---------+\n",
      "|41.3784791|2.1234518| 410000.0|\n",
      "|41.3766203|2.1235422| 275000.0|\n",
      "| 41.390968| 2.125664| 695000.0|\n",
      "|41.3764138|2.1240547| 199000.0|\n",
      "|41.3652336|2.1383753| 244000.0|\n",
      "|41.3587512|2.1440876| 186000.0|\n",
      "|41.3728028|2.1280125| 210000.0|\n",
      "|41.3612185|2.1390853| 185000.0|\n",
      "|41.3731361|2.1442186| 360000.0|\n",
      "|41.3603742|2.1414026| 315000.0|\n",
      "|41.3738539|2.1398227| 239000.0|\n",
      "|41.3603689|2.1390959| 230000.0|\n",
      "|41.3819925|2.1402918| 379000.0|\n",
      "|41.3749363|2.1616583| 250000.0|\n",
      "|41.3735834|2.1622435| 380000.0|\n",
      "|41.3783279|2.1263543| 335000.0|\n",
      "|41.3737705|2.1423725| 290000.0|\n",
      "|41.3731006| 2.156417| 261500.0|\n",
      "|41.3730297|2.1390113| 264000.0|\n",
      "|41.3724028|2.1294125| 185000.0|\n",
      "+----------+---------+---------+\n",
      "only showing top 20 rows\n",
      "\n",
      "+----------+------------------+\n",
      "|      date|         avg_price|\n",
      "+----------+------------------+\n",
      "|2020-01-02| 308176.4705882353|\n",
      "|2020-01-08|          676000.0|\n",
      "|2020-01-10|         1608960.0|\n",
      "|2020-01-13|          854640.0|\n",
      "|2020-01-23|1606617.2413793104|\n",
      "|2020-01-24|370230.76923076925|\n",
      "|2020-01-28| 617178.5714285715|\n",
      "|2020-01-30|         1729000.0|\n",
      "|2020-02-07|         1138030.0|\n",
      "|2020-02-10|         1251690.0|\n",
      "|2020-02-11|          759260.0|\n",
      "|2020-02-16|142666.66666666666|\n",
      "|2020-02-21|         1314780.0|\n",
      "|2020-02-26|         2056062.5|\n",
      "|2020-03-02|291506.71140939597|\n",
      "|2020-03-03| 924444.4444444445|\n",
      "|2020-03-07|1105738.0952380951|\n",
      "|2020-03-16|275529.78723404254|\n",
      "|2020-03-28| 805551.0204081633|\n",
      "|2020-04-05|          645080.0|\n",
      "+----------+------------------+\n",
      "only showing top 20 rows\n",
      "\n"
     ]
    }
   ],
   "source": [
    "# Geographic Analysis\n",
    "prices_income_idealista.groupBy('latitude', 'longitude').agg(avg('price').alias('avg_price')).show()\n",
    "\n",
    "# Temporal Trends\n",
    "prices_income_idealista.groupBy('date').agg(avg('price').alias('avg_price')).orderBy('date').show()\n"
   ]
  }
 ],
 "metadata": {
  "kernelspec": {
   "display_name": "bigdata_hw1",
   "language": "python",
   "name": "python3"
  },
  "language_info": {
   "codemirror_mode": {
    "name": "ipython",
    "version": 3
   },
   "file_extension": ".py",
   "mimetype": "text/x-python",
   "name": "python",
   "nbconvert_exporter": "python",
   "pygments_lexer": "ipython3",
   "version": "3.12.3"
  }
 },
 "nbformat": 4,
 "nbformat_minor": 2
}
